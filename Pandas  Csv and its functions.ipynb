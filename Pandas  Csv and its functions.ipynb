{
 "cells": [
  {
   "cell_type": "code",
   "execution_count": null,
   "id": "3b49f487-0a5b-433c-943f-7f88729c1ad6",
   "metadata": {},
   "outputs": [],
   "source": [
    "Copy data from another column:\n",
    "stu = pd.read_csv(\"C:\\\\Users\\\\Tarun\\\\Desktop\\\\Sql\\\\Stu.csv\",dtype = {\"age\":\"float\"})\n",
    "stu\n",
    "roll_no\tname\tphone_no\tage\taddress\tcity\tCountry\n",
    "0\t1\tTarun\t958645481\t23.0\tshreeji hieghts\tAhmedabad\tIndia\n",
    "1\t2\tPratik\t845483152\t24.0\tgovardhan park\tSurat\tIndia\n",
    "2\t3\tYuvraj\t784521585\t24.0\tsukhray mahadev\tMehsana\tIndia\n",
    "3\t5\tChirag\t971450557\t24.0\tyogeshwar park\tAhmedabad\tIndia\n",
    "4\t6\tVihar\t8454215844\t26.0\tgopi bunglows\tAdalah\tIndia"
   ]
  }
 ],
 "metadata": {
  "kernelspec": {
   "display_name": "Python 3 (ipykernel)",
   "language": "python",
   "name": "python3"
  },
  "language_info": {
   "codemirror_mode": {
    "name": "ipython",
    "version": 3
   },
   "file_extension": ".py",
   "mimetype": "text/x-python",
   "name": "python",
   "nbconvert_exporter": "python",
   "pygments_lexer": "ipython3",
   "version": "3.12.3"
  }
 },
 "nbformat": 4,
 "nbformat_minor": 5
}
