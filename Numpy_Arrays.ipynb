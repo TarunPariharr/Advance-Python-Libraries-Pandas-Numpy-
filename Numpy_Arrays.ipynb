{
 "cells": [
  {
   "cell_type": "raw",
   "id": "e69f61fe-90e3-4dbb-ad91-32f1b1793978",
   "metadata": {},
   "source": [
    "# Arrays: \n",
    "# -> This are the collection of homogenus types of data or the elements are with same data types:\n",
    "# -> Arrays are not fixed indexed or sized as their can be changes in their elements so idexing and sized will be update.\n",
    "# -> Array only supports limited datatypes with their type codes: Follwing are list of datatypes which are supprted by an Array datatypes:\n",
    "\"\"\"\n",
    "Type Code\tPythontype \tC Type\tMinimum size in bytes\n",
    "‘b’\t         int       Signedchar\t           1\n",
    "‘B’\t         int\t    Unsigned Char\t       1\n",
    "‘u’\t        Unicode   character\twchar_t\t       2\n",
    "‘h’\t         Int\t    Signed short\t       2\n",
    "‘H’\t         int\t  Unsigned short\t       2\n",
    "‘i’\t         int\t  Signed int\t           2\n",
    "‘I’\t         int\t   Unsigned int\t           3\n",
    "‘l’\t         int\t  signed long\t           4\n",
    "‘L’\t         int\t Unsigned long\t           4\n",
    "‘q’          int\t  Signed long long\t       8\n",
    "‘Q’\t         int\t Unsigned long long\t       8\n",
    "‘f’\t        float\t      float\t               4\n",
    "‘d’\t        float\t     double\t               8\n",
    "\"\"\""
   ]
  },
  {
   "cell_type": "code",
   "execution_count": 34,
   "id": "0a964620-8978-4f2b-af57-67a951d08e58",
   "metadata": {},
   "outputs": [],
   "source": [
    "from array import * # array is a library which comes with muliple modules while installing the python."
   ]
  },
  {
   "cell_type": "code",
   "execution_count": 35,
   "id": "c8653053-f233-442a-9e5c-e897c7a80178",
   "metadata": {},
   "outputs": [],
   "source": [
    "arr = array (\"i\",[25,36,44])"
   ]
  },
  {
   "cell_type": "code",
   "execution_count": 36,
   "id": "5e604acc-4ab5-4c89-87cd-01d473e93c5d",
   "metadata": {},
   "outputs": [
    {
     "name": "stdout",
     "output_type": "stream",
     "text": [
      "array('i', [25, 36, 44])\n",
      "<class 'array.array'>\n"
     ]
    }
   ],
   "source": [
    "print(arr)\n",
    "print(type(arr))"
   ]
  },
  {
   "cell_type": "code",
   "execution_count": 37,
   "id": "546df7ad-2cf2-4c8f-9a54-a091c1069967",
   "metadata": {},
   "outputs": [
    {
     "name": "stdout",
     "output_type": "stream",
     "text": [
      "['__add__', '__buffer__', '__class__', '__class_getitem__', '__contains__', '__copy__', '__deepcopy__', '__delattr__', '__delitem__', '__dir__', '__doc__', '__eq__', '__format__', '__ge__', '__getattribute__', '__getitem__', '__getstate__', '__gt__', '__hash__', '__iadd__', '__imul__', '__init__', '__init_subclass__', '__iter__', '__le__', '__len__', '__lt__', '__module__', '__mul__', '__ne__', '__new__', '__reduce__', '__reduce_ex__', '__release_buffer__', '__repr__', '__rmul__', '__setattr__', '__setitem__', '__sizeof__', '__str__', '__subclasshook__', 'append', 'buffer_info', 'byteswap', 'count', 'extend', 'frombytes', 'fromfile', 'fromlist', 'fromunicode', 'index', 'insert', 'itemsize', 'pop', 'remove', 'reverse', 'tobytes', 'tofile', 'tolist', 'tounicode', 'typecode']\n"
     ]
    }
   ],
   "source": [
    "print(dir(array))"
   ]
  },
  {
   "cell_type": "code",
   "execution_count": 38,
   "id": "fd984e35-4962-46c4-b379-24b423148d8a",
   "metadata": {},
   "outputs": [
    {
     "name": "stdout",
     "output_type": "stream",
     "text": [
      "array('i', [25, 36, 44, 99])\n",
      "array('i', [25, 36, 44])\n"
     ]
    },
    {
     "data": {
      "text/plain": [
       "0"
      ]
     },
     "execution_count": 38,
     "metadata": {},
     "output_type": "execute_result"
    }
   ],
   "source": [
    "arr.append(99) # it works same as list, all the list functions are applicable on arrays:\n",
    "print(arr)\n",
    "arr.remove(99)\n",
    "print(arr)\n",
    "c=arr.count(99)\n",
    "c"
   ]
  },
  {
   "cell_type": "code",
   "execution_count": 39,
   "id": "3b54ade8-9a6b-4a50-afdc-4c9ea8c691b7",
   "metadata": {},
   "outputs": [],
   "source": [
    "import numpy as np  # need to import numpy before using arrays:"
   ]
  },
  {
   "cell_type": "code",
   "execution_count": 40,
   "id": "627bcaa8-4601-4552-aeeb-dfa4547e481b",
   "metadata": {},
   "outputs": [],
   "source": [
    "l=[1,2,3,4,5]"
   ]
  },
  {
   "cell_type": "code",
   "execution_count": 41,
   "id": "6c41f605-c9bb-421f-8efc-ad0ab33a7c86",
   "metadata": {},
   "outputs": [],
   "source": [
    "a=np.array(l) # this will conver the list into arrays:"
   ]
  },
  {
   "cell_type": "code",
   "execution_count": 42,
   "id": "609e3936-e20e-4693-9885-4aa58bbf30c6",
   "metadata": {},
   "outputs": [
    {
     "name": "stdout",
     "output_type": "stream",
     "text": [
      "[1 2 3 4 5]\n"
     ]
    }
   ],
   "source": [
    "print(a)"
   ]
  },
  {
   "cell_type": "code",
   "execution_count": 43,
   "id": "3bc7d132-c60d-4e77-838f-8efc045c77a4",
   "metadata": {},
   "outputs": [
    {
     "data": {
      "text/plain": [
       "numpy.ndarray"
      ]
     },
     "execution_count": 43,
     "metadata": {},
     "output_type": "execute_result"
    }
   ],
   "source": [
    "type(a)"
   ]
  },
  {
   "cell_type": "code",
   "execution_count": 44,
   "id": "aeb2032a-e64a-45d0-8c11-e928cf8d7bb0",
   "metadata": {},
   "outputs": [
    {
     "data": {
      "text/plain": [
       "1"
      ]
     },
     "execution_count": 44,
     "metadata": {},
     "output_type": "execute_result"
    }
   ],
   "source": [
    "a.ndim # to find out the number of dimmensions:"
   ]
  },
  {
   "cell_type": "code",
   "execution_count": 45,
   "id": "a0c3d0d1-61c6-41eb-92ee-bc29be17508e",
   "metadata": {},
   "outputs": [
    {
     "name": "stdout",
     "output_type": "stream",
     "text": [
      "[ 8  9 10]\n",
      "<class 'numpy.ndarray'>\n"
     ]
    }
   ],
   "source": [
    "b=np.array([8,9,10])\n",
    "print(b)\n",
    "print(type(b))"
   ]
  },
  {
   "cell_type": "markdown",
   "id": "7f2e2c54-96ad-4084-b278-0ca13c03d0ff",
   "metadata": {},
   "source": [
    "#There are three types of arrays: 1-D,2-D,3-D"
   ]
  },
  {
   "cell_type": "markdown",
   "id": "ab7b2d70-1309-47cd-80bc-1aa0349609d9",
   "metadata": {},
   "source": [
    "# 2D arrays"
   ]
  },
  {
   "cell_type": "code",
   "execution_count": 46,
   "id": "0359fa95-2260-4bf2-95c1-d50a9adc8fd4",
   "metadata": {},
   "outputs": [],
   "source": [
    "c=np.arange(1,21) # works same as range function to print the list of real numbers"
   ]
  },
  {
   "cell_type": "code",
   "execution_count": 47,
   "id": "23d1da4d-aa8a-4b6a-91a9-cdfcf122db3a",
   "metadata": {},
   "outputs": [
    {
     "name": "stdout",
     "output_type": "stream",
     "text": [
      "[ 1  2  3  4  5  6  7  8  9 10 11 12 13 14 15 16 17 18 19 20]\n"
     ]
    }
   ],
   "source": [
    "print(c)"
   ]
  },
  {
   "cell_type": "code",
   "execution_count": 48,
   "id": "caa98b60-2d2b-470d-a4e8-cc4a81e0d56b",
   "metadata": {},
   "outputs": [],
   "source": [
    "d=c.reshape(4,5) #(rows,col): reshape to create the 1-D arrays to 2-D arrays: "
   ]
  },
  {
   "cell_type": "code",
   "execution_count": 49,
   "id": "ac89c21d-412e-4537-8ce7-e544408b2628",
   "metadata": {},
   "outputs": [
    {
     "name": "stdout",
     "output_type": "stream",
     "text": [
      "[[ 1  2  3  4  5]\n",
      " [ 6  7  8  9 10]\n",
      " [11 12 13 14 15]\n",
      " [16 17 18 19 20]]\n",
      "<class 'numpy.ndarray'>\n",
      "2\n"
     ]
    }
   ],
   "source": [
    "print(d)  \n",
    "print(type(d))\n",
    "print(d.ndim) # to know the dimension of the arrays:"
   ]
  },
  {
   "cell_type": "code",
   "execution_count": 50,
   "id": "2602e8a0-bf8a-4221-8125-126c75b12834",
   "metadata": {},
   "outputs": [
    {
     "data": {
      "text/plain": [
       "(4, 5)"
      ]
     },
     "execution_count": 50,
     "metadata": {},
     "output_type": "execute_result"
    }
   ],
   "source": [
    "d.shape # to know the shape of the arrays like rows,columns:"
   ]
  },
  {
   "cell_type": "code",
   "execution_count": 51,
   "id": "6519664c-7e58-4913-a5c0-5baaed74702a",
   "metadata": {},
   "outputs": [],
   "source": [
    "x=[1,2,3]\n",
    "y=[4,5,6]\n",
    "z=[7,8,9]\n",
    "w=np.array([x,y,z]) # we can combine multiple lists and make a 2-d arrays: The same way to create the arrays from list:"
   ]
  },
  {
   "cell_type": "code",
   "execution_count": 52,
   "id": "a4c2fe12-eef5-47fc-8c3f-7c9fc0b4a226",
   "metadata": {},
   "outputs": [
    {
     "name": "stdout",
     "output_type": "stream",
     "text": [
      "[[1 2 3]\n",
      " [4 5 6]\n",
      " [7 8 9]]\n"
     ]
    }
   ],
   "source": [
    "print(w)"
   ]
  },
  {
   "cell_type": "code",
   "execution_count": 53,
   "id": "7808c251-2763-4d5f-8a5c-a3ecb7a5d876",
   "metadata": {},
   "outputs": [
    {
     "name": "stdout",
     "output_type": "stream",
     "text": [
      "(3, 3)\n",
      "2\n"
     ]
    }
   ],
   "source": [
    "print(w.shape)\n",
    "print(w.ndim)"
   ]
  },
  {
   "cell_type": "code",
   "execution_count": 54,
   "id": "0e221bda-6b13-4889-bb54-de886661a447",
   "metadata": {},
   "outputs": [],
   "source": [
    "j=np.arange(1,16).reshape(3,5)"
   ]
  },
  {
   "cell_type": "code",
   "execution_count": 55,
   "id": "8ee1e783-a970-4fda-bc44-ab71ef480d5c",
   "metadata": {},
   "outputs": [
    {
     "name": "stdout",
     "output_type": "stream",
     "text": [
      "[[ 1  2  3  4  5]\n",
      " [ 6  7  8  9 10]\n",
      " [11 12 13 14 15]]\n"
     ]
    }
   ],
   "source": [
    "print(j)"
   ]
  },
  {
   "cell_type": "code",
   "execution_count": 56,
   "id": "124b1b7d-2e18-4458-a466-ad858bb52e88",
   "metadata": {},
   "outputs": [],
   "source": [
    "k=np.arange(16,31).reshape(5,3)"
   ]
  },
  {
   "cell_type": "code",
   "execution_count": 57,
   "id": "89044eea-911a-4760-9a75-d011cd5a3aa4",
   "metadata": {},
   "outputs": [
    {
     "name": "stdout",
     "output_type": "stream",
     "text": [
      "[[16 17 18]\n",
      " [19 20 21]\n",
      " [22 23 24]\n",
      " [25 26 27]\n",
      " [28 29 30]]\n"
     ]
    }
   ],
   "source": [
    "print(k)"
   ]
  },
  {
   "cell_type": "code",
   "execution_count": 58,
   "id": "4a381557-4571-43fc-8fc1-40c07590cdea",
   "metadata": {},
   "outputs": [
    {
     "data": {
      "text/plain": [
       "2"
      ]
     },
     "execution_count": 58,
     "metadata": {},
     "output_type": "execute_result"
    }
   ],
   "source": [
    "k.ndim"
   ]
  },
  {
   "cell_type": "code",
   "execution_count": 59,
   "id": "aefc6a27-200b-41f7-8f84-883f7173f52d",
   "metadata": {},
   "outputs": [],
   "source": [
    "# Matrix muliplication: j(5*3)xk(3*5) (Column of first matrix X rows of second matrix) Both matrixes Column and rows should be equal:"
   ]
  },
  {
   "cell_type": "code",
   "execution_count": 60,
   "id": "7b56b231-b2d5-4ccc-8bc4-f0e8d3cc2017",
   "metadata": {},
   "outputs": [
    {
     "data": {
      "text/plain": [
       "array([[ 360,  375,  390],\n",
       "       [ 910,  950,  990],\n",
       "       [1460, 1525, 1590]])"
      ]
     },
     "execution_count": 60,
     "metadata": {},
     "output_type": "execute_result"
    }
   ],
   "source": [
    "j@k # use to multiply the j array to k array ((1*16)+(2*19)+(3*22)+(4*25)+(5*28)) for fist (1,1) row and col and so on for every other rows and col."
   ]
  },
  {
   "cell_type": "code",
   "execution_count": 61,
   "id": "c537ea08-0285-4064-a28a-0f0682351ef1",
   "metadata": {},
   "outputs": [
    {
     "data": {
      "text/plain": [
       "array([[ 360,  375,  390],\n",
       "       [ 910,  950,  990],\n",
       "       [1460, 1525, 1590]])"
      ]
     },
     "execution_count": 61,
     "metadata": {},
     "output_type": "execute_result"
    }
   ],
   "source": [
    "j.dot(k) # also can be cross muliply both the matrix with .dot():"
   ]
  },
  {
   "cell_type": "markdown",
   "id": "f4c5da6c-4756-40a4-86d6-1338fb600f84",
   "metadata": {},
   "source": [
    "# 3D arrays:"
   ]
  },
  {
   "cell_type": "code",
   "execution_count": 62,
   "id": "3233cfdc-da29-44d0-81fd-644c5c12cfc1",
   "metadata": {},
   "outputs": [],
   "source": [
    "ts=np.arange(1,28).reshape(3,3,3)  # no of 2D arrays,rows, columns"
   ]
  },
  {
   "cell_type": "code",
   "execution_count": 63,
   "id": "febb5ae3-e228-4ea0-892f-84f8aa63db38",
   "metadata": {},
   "outputs": [
    {
     "name": "stdout",
     "output_type": "stream",
     "text": [
      "[[[ 1  2  3]\n",
      "  [ 4  5  6]\n",
      "  [ 7  8  9]]\n",
      "\n",
      " [[10 11 12]\n",
      "  [13 14 15]\n",
      "  [16 17 18]]\n",
      "\n",
      " [[19 20 21]\n",
      "  [22 23 24]\n",
      "  [25 26 27]]]\n"
     ]
    }
   ],
   "source": [
    "print(ts)"
   ]
  },
  {
   "cell_type": "code",
   "execution_count": 64,
   "id": "204d85d5-4899-4268-a971-3962271dbf3a",
   "metadata": {},
   "outputs": [
    {
     "data": {
      "text/plain": [
       "3"
      ]
     },
     "execution_count": 64,
     "metadata": {},
     "output_type": "execute_result"
    }
   ],
   "source": [
    "ts.ndim"
   ]
  },
  {
   "cell_type": "code",
   "execution_count": 65,
   "id": "9879d02d-0cce-44d7-9217-00f9462f9aa0",
   "metadata": {},
   "outputs": [
    {
     "name": "stdout",
     "output_type": "stream",
     "text": [
      "[[ 0  1  2  3]\n",
      " [ 4  5  6  7]\n",
      " [ 8  9 10 11]]\n",
      "[[12 13 14 15]\n",
      " [16 17 18 19]\n",
      " [20 21 22 23]]\n"
     ]
    }
   ],
   "source": [
    "a=np.arange(12).reshape(3,4)\n",
    "b=np.arange(12,24).reshape(3,4)\n",
    "print(a)\n",
    "print(b)"
   ]
  },
  {
   "cell_type": "markdown",
   "id": "9a6a5c94-aac6-4ca0-8e4e-d97289c2cfb1",
   "metadata": {},
   "source": [
    "#Arithmetic Operation on Array"
   ]
  },
  {
   "cell_type": "code",
   "execution_count": 66,
   "id": "6cca61f4-0489-4aa7-b2c7-7353529ad8d7",
   "metadata": {},
   "outputs": [
    {
     "data": {
      "text/plain": [
       "array([[12, 14, 16, 18],\n",
       "       [20, 22, 24, 26],\n",
       "       [28, 30, 32, 34]])"
      ]
     },
     "execution_count": 66,
     "metadata": {},
     "output_type": "execute_result"
    }
   ],
   "source": [
    "a+b "
   ]
  },
  {
   "cell_type": "code",
   "execution_count": 67,
   "id": "600c7fc5-71f4-468e-adf4-35cb369df37a",
   "metadata": {},
   "outputs": [
    {
     "data": {
      "text/plain": [
       "array([[12, 12, 12, 12],\n",
       "       [12, 12, 12, 12],\n",
       "       [12, 12, 12, 12]])"
      ]
     },
     "execution_count": 67,
     "metadata": {},
     "output_type": "execute_result"
    }
   ],
   "source": [
    "b-a"
   ]
  },
  {
   "cell_type": "code",
   "execution_count": 68,
   "id": "e1e82748-ec0b-462a-9a79-85fcbd8c10dd",
   "metadata": {},
   "outputs": [
    {
     "data": {
      "text/plain": [
       "array([[  0,  13,  28,  45],\n",
       "       [ 64,  85, 108, 133],\n",
       "       [160, 189, 220, 253]])"
      ]
     },
     "execution_count": 68,
     "metadata": {},
     "output_type": "execute_result"
    }
   ],
   "source": [
    "a*b"
   ]
  },
  {
   "cell_type": "code",
   "execution_count": 69,
   "id": "1d65b28b-d769-4f8d-8c98-5ceb982f3f05",
   "metadata": {},
   "outputs": [
    {
     "data": {
      "text/plain": [
       "array([[0.        , 0.07692308, 0.14285714, 0.2       ],\n",
       "       [0.25      , 0.29411765, 0.33333333, 0.36842105],\n",
       "       [0.4       , 0.42857143, 0.45454545, 0.47826087]])"
      ]
     },
     "execution_count": 69,
     "metadata": {},
     "output_type": "execute_result"
    }
   ],
   "source": [
    "a/b"
   ]
  },
  {
   "cell_type": "code",
   "execution_count": 70,
   "id": "9000e9ca-4cc5-4583-b9de-97f8aa30b3aa",
   "metadata": {},
   "outputs": [
    {
     "data": {
      "text/plain": [
       "array([[0, 0, 0, 0],\n",
       "       [0, 0, 0, 0],\n",
       "       [0, 0, 0, 0]])"
      ]
     },
     "execution_count": 70,
     "metadata": {},
     "output_type": "execute_result"
    }
   ],
   "source": [
    "a//b"
   ]
  },
  {
   "cell_type": "code",
   "execution_count": 71,
   "id": "ed25fdfd-d036-4bc2-9394-c2071033ac3d",
   "metadata": {},
   "outputs": [
    {
     "data": {
      "text/plain": [
       "array([[ 0,  1,  2,  3],\n",
       "       [ 4,  5,  6,  7],\n",
       "       [ 8,  9, 10, 11]])"
      ]
     },
     "execution_count": 71,
     "metadata": {},
     "output_type": "execute_result"
    }
   ],
   "source": [
    "a%b"
   ]
  },
  {
   "cell_type": "code",
   "execution_count": 72,
   "id": "b608cf10-f920-4ae8-85be-5ec933b2a561",
   "metadata": {},
   "outputs": [
    {
     "name": "stderr",
     "output_type": "stream",
     "text": [
      "C:\\Users\\Tarun\\AppData\\Local\\Temp\\ipykernel_2816\\2686318045.py:1: RuntimeWarning: divide by zero encountered in remainder\n",
      "  b%a\n"
     ]
    },
    {
     "data": {
      "text/plain": [
       "array([[0, 0, 0, 0],\n",
       "       [0, 2, 0, 5],\n",
       "       [4, 3, 2, 1]])"
      ]
     },
     "execution_count": 72,
     "metadata": {},
     "output_type": "execute_result"
    }
   ],
   "source": [
    "b%a"
   ]
  },
  {
   "cell_type": "code",
   "execution_count": 73,
   "id": "2279351e-b2b4-444a-9f1e-4a3d112db337",
   "metadata": {},
   "outputs": [
    {
     "name": "stderr",
     "output_type": "stream",
     "text": [
      "C:\\Users\\Tarun\\AppData\\Local\\Temp\\ipykernel_2816\\997269450.py:1: RuntimeWarning: divide by zero encountered in floor_divide\n",
      "  b//a\n"
     ]
    },
    {
     "data": {
      "text/plain": [
       "array([[ 0, 13,  7,  5],\n",
       "       [ 4,  3,  3,  2],\n",
       "       [ 2,  2,  2,  2]])"
      ]
     },
     "execution_count": 73,
     "metadata": {},
     "output_type": "execute_result"
    }
   ],
   "source": [
    "b//a"
   ]
  },
  {
   "cell_type": "code",
   "execution_count": 74,
   "id": "ec0d07d4-98cf-485e-a32b-1eb6189910cd",
   "metadata": {},
   "outputs": [
    {
     "name": "stdout",
     "output_type": "stream",
     "text": [
      "['False_', 'ScalarType', 'True_', '_CopyMode', '_NoValue', '__NUMPY_SETUP__', '__all__', '__array_api_version__', '__array_namespace_info__', '__builtins__', '__cached__', '__config__', '__dir__', '__doc__', '__expired_attributes__', '__file__', '__former_attrs__', '__future_scalars__', '__getattr__', '__loader__', '__name__', '__numpy_submodules__', '__package__', '__path__', '__spec__', '__version__', '_array_api_info', '_core', '_distributor_init', '_expired_attrs_2_0', '_get_promotion_state', '_globals', '_int_extended_msg', '_mat', '_msg', '_no_nep50_warning', '_pyinstaller_hooks_dir', '_pytesttester', '_set_promotion_state', '_specific_msg', '_type_info', '_typing', '_utils', 'abs', 'absolute', 'acos', 'acosh', 'add', 'all', 'allclose', 'amax', 'amin', 'angle', 'any', 'append', 'apply_along_axis', 'apply_over_axes', 'arange', 'arccos', 'arccosh', 'arcsin', 'arcsinh', 'arctan', 'arctan2', 'arctanh', 'argmax', 'argmin', 'argpartition', 'argsort', 'argwhere', 'around', 'array', 'array2string', 'array_equal', 'array_equiv', 'array_repr', 'array_split', 'array_str', 'asanyarray', 'asarray', 'asarray_chkfinite', 'ascontiguousarray', 'asfortranarray', 'asin', 'asinh', 'asmatrix', 'astype', 'atan', 'atan2', 'atanh', 'atleast_1d', 'atleast_2d', 'atleast_3d', 'average', 'bartlett', 'base_repr', 'binary_repr', 'bincount', 'bitwise_and', 'bitwise_count', 'bitwise_invert', 'bitwise_left_shift', 'bitwise_not', 'bitwise_or', 'bitwise_right_shift', 'bitwise_xor', 'blackman', 'block', 'bmat', 'bool', 'bool_', 'broadcast', 'broadcast_arrays', 'broadcast_shapes', 'broadcast_to', 'busday_count', 'busday_offset', 'busdaycalendar', 'byte', 'bytes_', 'c_', 'can_cast', 'cbrt', 'cdouble', 'ceil', 'char', 'character', 'choose', 'clip', 'clongdouble', 'column_stack', 'common_type', 'complex128', 'complex64', 'complexfloating', 'compress', 'concat', 'concatenate', 'conj', 'conjugate', 'convolve', 'copy', 'copysign', 'copyto', 'core', 'corrcoef', 'correlate', 'cos', 'cosh', 'count_nonzero', 'cov', 'cross', 'csingle', 'ctypeslib', 'cumprod', 'cumsum', 'cumulative_prod', 'cumulative_sum', 'datetime64', 'datetime_as_string', 'datetime_data', 'deg2rad', 'degrees', 'delete', 'diag', 'diag_indices', 'diag_indices_from', 'diagflat', 'diagonal', 'diff', 'digitize', 'divide', 'divmod', 'dot', 'double', 'dsplit', 'dstack', 'dtype', 'dtypes', 'e', 'ediff1d', 'einsum', 'einsum_path', 'emath', 'empty', 'empty_like', 'equal', 'errstate', 'euler_gamma', 'exceptions', 'exp', 'exp2', 'expand_dims', 'expm1', 'extract', 'eye', 'f2py', 'fabs', 'fft', 'fill_diagonal', 'finfo', 'fix', 'flatiter', 'flatnonzero', 'flexible', 'flip', 'fliplr', 'flipud', 'float16', 'float32', 'float64', 'float_power', 'floating', 'floor', 'floor_divide', 'fmax', 'fmin', 'fmod', 'format_float_positional', 'format_float_scientific', 'frexp', 'from_dlpack', 'frombuffer', 'fromfile', 'fromfunction', 'fromiter', 'frompyfunc', 'fromregex', 'fromstring', 'full', 'full_like', 'gcd', 'generic', 'genfromtxt', 'geomspace', 'get_include', 'get_printoptions', 'getbufsize', 'geterr', 'geterrcall', 'gradient', 'greater', 'greater_equal', 'half', 'hamming', 'hanning', 'heaviside', 'histogram', 'histogram2d', 'histogram_bin_edges', 'histogramdd', 'hsplit', 'hstack', 'hypot', 'i0', 'identity', 'iinfo', 'imag', 'in1d', 'index_exp', 'indices', 'inexact', 'inf', 'info', 'inner', 'insert', 'int16', 'int32', 'int64', 'int8', 'int_', 'intc', 'integer', 'interp', 'intersect1d', 'intp', 'invert', 'is_busday', 'isclose', 'iscomplex', 'iscomplexobj', 'isdtype', 'isfinite', 'isfortran', 'isin', 'isinf', 'isnan', 'isnat', 'isneginf', 'isposinf', 'isreal', 'isrealobj', 'isscalar', 'issubdtype', 'iterable', 'ix_', 'kaiser', 'kron', 'lcm', 'ldexp', 'left_shift', 'less', 'less_equal', 'lexsort', 'lib', 'linalg', 'linspace', 'little_endian', 'load', 'loadtxt', 'log', 'log10', 'log1p', 'log2', 'logaddexp', 'logaddexp2', 'logical_and', 'logical_not', 'logical_or', 'logical_xor', 'logspace', 'long', 'longdouble', 'longlong', 'ma', 'mask_indices', 'matmul', 'matrix', 'matrix_transpose', 'max', 'maximum', 'may_share_memory', 'mean', 'median', 'memmap', 'meshgrid', 'mgrid', 'min', 'min_scalar_type', 'minimum', 'mintypecode', 'mod', 'modf', 'moveaxis', 'multiply', 'nan', 'nan_to_num', 'nanargmax', 'nanargmin', 'nancumprod', 'nancumsum', 'nanmax', 'nanmean', 'nanmedian', 'nanmin', 'nanpercentile', 'nanprod', 'nanquantile', 'nanstd', 'nansum', 'nanvar', 'ndarray', 'ndenumerate', 'ndim', 'ndindex', 'nditer', 'negative', 'nested_iters', 'newaxis', 'nextafter', 'nonzero', 'not_equal', 'number', 'object_', 'ogrid', 'ones', 'ones_like', 'outer', 'packbits', 'pad', 'partition', 'percentile', 'permute_dims', 'pi', 'piecewise', 'place', 'poly', 'poly1d', 'polyadd', 'polyder', 'polydiv', 'polyfit', 'polyint', 'polymul', 'polynomial', 'polysub', 'polyval', 'positive', 'pow', 'power', 'printoptions', 'prod', 'promote_types', 'ptp', 'put', 'put_along_axis', 'putmask', 'quantile', 'r_', 'rad2deg', 'radians', 'random', 'ravel', 'ravel_multi_index', 'real', 'real_if_close', 'rec', 'recarray', 'reciprocal', 'record', 'remainder', 'repeat', 'require', 'reshape', 'resize', 'result_type', 'right_shift', 'rint', 'roll', 'rollaxis', 'roots', 'rot90', 'round', 'row_stack', 's_', 'save', 'savetxt', 'savez', 'savez_compressed', 'sctypeDict', 'searchsorted', 'select', 'set_printoptions', 'setbufsize', 'setdiff1d', 'seterr', 'seterrcall', 'setxor1d', 'shape', 'shares_memory', 'short', 'show_config', 'show_runtime', 'sign', 'signbit', 'signedinteger', 'sin', 'sinc', 'single', 'sinh', 'size', 'sort', 'sort_complex', 'spacing', 'split', 'sqrt', 'square', 'squeeze', 'stack', 'std', 'str_', 'strings', 'subtract', 'sum', 'swapaxes', 'take', 'take_along_axis', 'tan', 'tanh', 'tensordot', 'test', 'testing', 'tile', 'timedelta64', 'trace', 'transpose', 'trapezoid', 'trapz', 'tri', 'tril', 'tril_indices', 'tril_indices_from', 'trim_zeros', 'triu', 'triu_indices', 'triu_indices_from', 'true_divide', 'trunc', 'typecodes', 'typename', 'typing', 'ubyte', 'ufunc', 'uint', 'uint16', 'uint32', 'uint64', 'uint8', 'uintc', 'uintp', 'ulong', 'ulonglong', 'union1d', 'unique', 'unique_all', 'unique_counts', 'unique_inverse', 'unique_values', 'unpackbits', 'unravel_index', 'unsignedinteger', 'unstack', 'unwrap', 'ushort', 'vander', 'var', 'vdot', 'vecdot', 'vectorize', 'void', 'vsplit', 'vstack', 'where', 'zeros', 'zeros_like']\n"
     ]
    }
   ],
   "source": [
    "print(dir(np))"
   ]
  },
  {
   "cell_type": "markdown",
   "id": "5db71e21-187a-46f2-af2c-5ce72b6af432",
   "metadata": {},
   "source": [
    "#Predefine Arrays:"
   ]
  },
  {
   "cell_type": "code",
   "execution_count": 75,
   "id": "5251d79f-34cb-4b54-895f-fd5d1515e33c",
   "metadata": {},
   "outputs": [
    {
     "data": {
      "text/plain": [
       "array([[0., 0., 0.],\n",
       "       [0., 0., 0.],\n",
       "       [0., 0., 0.],\n",
       "       [0., 0., 0.],\n",
       "       [0., 0., 0.]])"
      ]
     },
     "execution_count": 75,
     "metadata": {},
     "output_type": "execute_result"
    }
   ],
   "source": [
    "np.zeros(15).reshape(5,3) # bedfault it is in float can be changed to int,complex number:"
   ]
  },
  {
   "cell_type": "code",
   "execution_count": 76,
   "id": "1da07ed6-6286-478f-9782-41cc85b95e94",
   "metadata": {},
   "outputs": [
    {
     "data": {
      "text/plain": [
       "array([[0, 0, 0],\n",
       "       [0, 0, 0],\n",
       "       [0, 0, 0],\n",
       "       [0, 0, 0],\n",
       "       [0, 0, 0]])"
      ]
     },
     "execution_count": 76,
     "metadata": {},
     "output_type": "execute_result"
    }
   ],
   "source": [
    "np.zeros(15,dtype=\"int\").reshape(5,3)"
   ]
  },
  {
   "cell_type": "code",
   "execution_count": 77,
   "id": "81d6cfd6-7f6e-4ed2-b4b6-32e140e3382b",
   "metadata": {},
   "outputs": [
    {
     "data": {
      "text/plain": [
       "array([[0.+0.j, 0.+0.j, 0.+0.j],\n",
       "       [0.+0.j, 0.+0.j, 0.+0.j],\n",
       "       [0.+0.j, 0.+0.j, 0.+0.j],\n",
       "       [0.+0.j, 0.+0.j, 0.+0.j],\n",
       "       [0.+0.j, 0.+0.j, 0.+0.j]])"
      ]
     },
     "execution_count": 77,
     "metadata": {},
     "output_type": "execute_result"
    }
   ],
   "source": [
    "np.zeros(15,dtype=\"complex\").reshape(5,3)"
   ]
  },
  {
   "cell_type": "code",
   "execution_count": 78,
   "id": "81284fc7-8809-4725-8f5a-ed66446b970e",
   "metadata": {},
   "outputs": [
    {
     "data": {
      "text/plain": [
       "array([[1., 1., 1., 1., 1.],\n",
       "       [1., 1., 1., 1., 1.],\n",
       "       [1., 1., 1., 1., 1.]])"
      ]
     },
     "execution_count": 78,
     "metadata": {},
     "output_type": "execute_result"
    }
   ],
   "source": [
    "np.ones(15).reshape(3,5) # to create an anrray of only ones value"
   ]
  },
  {
   "cell_type": "code",
   "execution_count": 79,
   "id": "10b07a09-67cf-4e95-a25c-ad59148be872",
   "metadata": {},
   "outputs": [
    {
     "data": {
      "text/plain": [
       "array([[1., 0., 0., 0., 0.],\n",
       "       [0., 1., 0., 0., 0.],\n",
       "       [0., 0., 1., 0., 0.],\n",
       "       [0., 0., 0., 1., 0.],\n",
       "       [0., 0., 0., 0., 1.]])"
      ]
     },
     "execution_count": 79,
     "metadata": {},
     "output_type": "execute_result"
    }
   ],
   "source": [
    "np.eye(5) # returns a 2-D array with ones on the diagonal and zeros elsewhere (rows are compulsary,col are optional))"
   ]
  },
  {
   "cell_type": "code",
   "execution_count": 80,
   "id": "49d175f2-a38e-4052-baa2-96d26832cb26",
   "metadata": {},
   "outputs": [],
   "source": [
    "g=np.eye(4,4)"
   ]
  },
  {
   "cell_type": "code",
   "execution_count": 81,
   "id": "76d50ded-74d7-4fd3-a847-9b813eda917f",
   "metadata": {},
   "outputs": [
    {
     "name": "stdout",
     "output_type": "stream",
     "text": [
      "[[1. 0. 0. 0.]\n",
      " [0. 1. 0. 0.]\n",
      " [0. 0. 1. 0.]\n",
      " [0. 0. 0. 1.]]\n"
     ]
    }
   ],
   "source": [
    "print(g)"
   ]
  },
  {
   "cell_type": "code",
   "execution_count": 82,
   "id": "b981b0fc-8386-4fda-98ac-07ecee00c4a3",
   "metadata": {},
   "outputs": [
    {
     "data": {
      "text/plain": [
       "np.int64(11)"
      ]
     },
     "execution_count": 82,
     "metadata": {},
     "output_type": "execute_result"
    }
   ],
   "source": [
    "np.max(a)"
   ]
  },
  {
   "cell_type": "code",
   "execution_count": 83,
   "id": "ccaf4a7e-55d4-4462-acc1-f0763dea6d64",
   "metadata": {},
   "outputs": [
    {
     "data": {
      "text/plain": [
       "np.float64(5.5)"
      ]
     },
     "execution_count": 83,
     "metadata": {},
     "output_type": "execute_result"
    }
   ],
   "source": [
    "np.mean(a)"
   ]
  },
  {
   "cell_type": "code",
   "execution_count": 84,
   "id": "fdd423ae-b615-419a-b167-b1cbb886b13e",
   "metadata": {},
   "outputs": [
    {
     "data": {
      "text/plain": [
       "np.int64(0)"
      ]
     },
     "execution_count": 84,
     "metadata": {},
     "output_type": "execute_result"
    }
   ],
   "source": [
    "np.min(a)"
   ]
  },
  {
   "cell_type": "code",
   "execution_count": 85,
   "id": "9d052eb2-4ffe-4ad3-ad12-7fa0c3d04d23",
   "metadata": {},
   "outputs": [
    {
     "data": {
      "text/plain": [
       "array([0.59354111, 0.00562093, 0.03760682, 0.29612581, 0.13648803,\n",
       "       0.97374445, 0.57835853, 0.93781144, 0.19326354, 0.11121936,\n",
       "       0.2059704 , 0.37877543, 0.0346153 , 0.49874921, 0.44549126])"
      ]
     },
     "execution_count": 85,
     "metadata": {},
     "output_type": "execute_result"
    }
   ],
   "source": [
    "np.random.random(15) # will create an array for random values between 0 to 1:reshaping the array is also possible:"
   ]
  },
  {
   "cell_type": "code",
   "execution_count": 86,
   "id": "2ad750fd-e114-4224-b15d-7b10a0b2043c",
   "metadata": {},
   "outputs": [
    {
     "data": {
      "text/plain": [
       "array([23, 18, 15,  3, 17,  5, 17, 23,  3, 20, 16, 15,  8,  2,  6, 21,  1,\n",
       "       12, 22, 15,  6,  5, 19, 24,  2,  9, 15,  4, 15, 14,  1,  2, 23, 17,\n",
       "       10, 22, 21, 22, 23, 12, 17,  9, 13, 19,  3, 20,  7, 20,  9, 19],\n",
       "      dtype=int32)"
      ]
     },
     "execution_count": 86,
     "metadata": {},
     "output_type": "execute_result"
    }
   ],
   "source": [
    "np.random.randint(1,25,50) # randint functino will return the random integer values between (1 to 25 and return 50 no values)"
   ]
  },
  {
   "cell_type": "code",
   "execution_count": 87,
   "id": "9efffe1a-fccb-49bb-aee1-7bfca5eb925d",
   "metadata": {},
   "outputs": [
    {
     "data": {
      "text/plain": [
       "array([28.39276139,  3.79899222, 14.67517959, 24.19079118, 10.68950113,\n",
       "       36.5524383 , 10.94938677, 43.36824949, 16.29928593, 22.02134646,\n",
       "       22.97256956, 26.46163597, 13.96382712, 22.75577199, 25.56692837,\n",
       "        8.07770892, 18.14272709, 13.01706572, 29.92283755, 14.10809222,\n",
       "       28.95166549, 34.29133786, 15.3842114 , 29.28520473, 15.25103084,\n",
       "       28.71955426, 23.08088199, 11.8427391 , 18.78418246, 11.02083898,\n",
       "       20.59684961, 27.25828044, 25.29777345, 34.3807306 , 12.15294185,\n",
       "       23.13862535, 12.64963947, 12.0452052 , 26.32751857,  1.7023428 ])"
      ]
     },
     "execution_count": 87,
     "metadata": {},
     "output_type": "execute_result"
    }
   ],
   "source": [
    "np.random.normal(20,10,40) #will return the random values from 20 with fluctuation average of 10 values up and down and return total 40 values"
   ]
  },
  {
   "cell_type": "code",
   "execution_count": 88,
   "id": "292227be-8a9c-4fb7-af8d-1e980de3e8e7",
   "metadata": {},
   "outputs": [
    {
     "data": {
      "text/plain": [
       "array([1.        , 1.02040816, 1.04081633, 1.06122449, 1.08163265,\n",
       "       1.10204082, 1.12244898, 1.14285714, 1.16326531, 1.18367347,\n",
       "       1.20408163, 1.2244898 , 1.24489796, 1.26530612, 1.28571429,\n",
       "       1.30612245, 1.32653061, 1.34693878, 1.36734694, 1.3877551 ,\n",
       "       1.40816327, 1.42857143, 1.44897959, 1.46938776, 1.48979592,\n",
       "       1.51020408, 1.53061224, 1.55102041, 1.57142857, 1.59183673,\n",
       "       1.6122449 , 1.63265306, 1.65306122, 1.67346939, 1.69387755,\n",
       "       1.71428571, 1.73469388, 1.75510204, 1.7755102 , 1.79591837,\n",
       "       1.81632653, 1.83673469, 1.85714286, 1.87755102, 1.89795918,\n",
       "       1.91836735, 1.93877551, 1.95918367, 1.97959184, 2.        ])"
      ]
     },
     "execution_count": 88,
     "metadata": {},
     "output_type": "execute_result"
    }
   ],
   "source": [
    "np.linspace(1,2,50) # linspace is use to break the difference between numbers in no. of parts(Start from 1, end on 2, and wil return 50 float number) "
   ]
  },
  {
   "cell_type": "code",
   "execution_count": 89,
   "id": "b06be8b2-c104-4e57-8020-8e8af1cfc78f",
   "metadata": {},
   "outputs": [
    {
     "data": {
      "text/plain": [
       "array([[ 0,  1,  2,  3],\n",
       "       [ 4,  5,  6,  7],\n",
       "       [ 8,  9, 10, 11]])"
      ]
     },
     "execution_count": 89,
     "metadata": {},
     "output_type": "execute_result"
    }
   ],
   "source": [
    "a"
   ]
  },
  {
   "cell_type": "code",
   "execution_count": 90,
   "id": "dd729afb-a31f-4396-a342-6fdfdafbc15f",
   "metadata": {},
   "outputs": [
    {
     "data": {
      "text/plain": [
       "array([[12, 13, 14, 15],\n",
       "       [16, 17, 18, 19],\n",
       "       [20, 21, 22, 23]])"
      ]
     },
     "execution_count": 90,
     "metadata": {},
     "output_type": "execute_result"
    }
   ],
   "source": [
    "b"
   ]
  },
  {
   "cell_type": "code",
   "execution_count": 91,
   "id": "d05b85fc-f844-4fc1-aec6-d5a16e6d12eb",
   "metadata": {},
   "outputs": [
    {
     "data": {
      "text/plain": [
       "array([ 0,  1,  2,  3,  4,  5,  6,  7,  8,  9, 10, 11])"
      ]
     },
     "execution_count": 91,
     "metadata": {},
     "output_type": "execute_result"
    }
   ],
   "source": [
    "np.hstack(a) # will convert the normal into horizontal stock:"
   ]
  },
  {
   "cell_type": "code",
   "execution_count": 104,
   "id": "00a7dacf-cd1b-4947-a658-822086194e86",
   "metadata": {},
   "outputs": [],
   "source": [
    "c=np.hstack(b)"
   ]
  },
  {
   "cell_type": "code",
   "execution_count": 105,
   "id": "1917acad-40e0-47fa-bec4-8fa141c98288",
   "metadata": {},
   "outputs": [
    {
     "name": "stdout",
     "output_type": "stream",
     "text": [
      "[12 13 14 15 16 17 18 19 20 21 22 23]\n"
     ]
    }
   ],
   "source": [
    "print(c)"
   ]
  },
  {
   "cell_type": "code",
   "execution_count": 106,
   "id": "598eb7b0-0f93-41c4-83aa-4b0b6606b0ee",
   "metadata": {},
   "outputs": [
    {
     "data": {
      "text/plain": [
       "array([[12],\n",
       "       [13],\n",
       "       [14],\n",
       "       [15],\n",
       "       [16],\n",
       "       [17],\n",
       "       [18],\n",
       "       [19],\n",
       "       [20],\n",
       "       [21],\n",
       "       [22],\n",
       "       [23]])"
      ]
     },
     "execution_count": 106,
     "metadata": {},
     "output_type": "execute_result"
    }
   ],
   "source": [
    "np.vstack(c) # will conver the horizontal stack in to vertical stack"
   ]
  },
  {
   "cell_type": "code",
   "execution_count": 107,
   "id": "a579e6d7-ec32-46a0-83df-367b971bc569",
   "metadata": {},
   "outputs": [],
   "source": [
    "cc=np.random.randint(1,25,50)"
   ]
  },
  {
   "cell_type": "code",
   "execution_count": 108,
   "id": "d1eaed05-d0bb-474e-92a9-54b1a897f96d",
   "metadata": {},
   "outputs": [
    {
     "data": {
      "text/plain": [
       "array([ 2, 17, 18, 20, 23, 17, 23,  3, 17,  4, 20, 19,  8,  3,  4, 22, 14,\n",
       "        4, 14,  4, 24,  8, 22, 22, 13, 16,  1, 12,  1,  4, 16,  8, 11,  1,\n",
       "        8, 23, 12, 13,  8,  6,  3, 17, 10, 19, 16,  1, 14,  4,  3,  4],\n",
       "      dtype=int32)"
      ]
     },
     "execution_count": 108,
     "metadata": {},
     "output_type": "execute_result"
    }
   ],
   "source": [
    "cc"
   ]
  },
  {
   "cell_type": "code",
   "execution_count": 112,
   "id": "61a25c68-582f-4edf-ab1d-c5eebb84b742",
   "metadata": {},
   "outputs": [
    {
     "data": {
      "text/plain": [
       "array([ 1,  2,  3,  4,  6,  8, 10, 11, 12, 13, 14, 16, 17, 18, 19, 20, 22,\n",
       "       23, 24], dtype=int32)"
      ]
     },
     "execution_count": 112,
     "metadata": {},
     "output_type": "execute_result"
    }
   ],
   "source": [
    "np.unique(cc) #will give the unique values from the array"
   ]
  },
  {
   "cell_type": "code",
   "execution_count": null,
   "id": "6593dbb4-d39a-4797-9ada-fef473d89b9f",
   "metadata": {},
   "outputs": [],
   "source": []
  },
  {
   "cell_type": "code",
   "execution_count": null,
   "id": "8fddf376-1329-4ed6-a85a-7ded5589e011",
   "metadata": {},
   "outputs": [],
   "source": []
  }
 ],
 "metadata": {
  "kernelspec": {
   "display_name": "Python 3 (ipykernel)",
   "language": "python",
   "name": "python3"
  },
  "language_info": {
   "codemirror_mode": {
    "name": "ipython",
    "version": 3
   },
   "file_extension": ".py",
   "mimetype": "text/x-python",
   "name": "python",
   "nbconvert_exporter": "python",
   "pygments_lexer": "ipython3",
   "version": "3.12.3"
  }
 },
 "nbformat": 4,
 "nbformat_minor": 5
}
