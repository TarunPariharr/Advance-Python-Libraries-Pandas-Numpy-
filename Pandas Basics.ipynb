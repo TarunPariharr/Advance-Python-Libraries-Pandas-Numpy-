{
 "cells": [
  {
   "cell_type": "markdown",
   "id": "704e1a0a-dad5-4ad8-be3e-4bb8e494cfdd",
   "metadata": {},
   "source": [
    "# Pandas: It is a python library which is use to work on large data set to handling,cleaning,analysing and manipulating the data:"
   ]
  },
  {
   "cell_type": "code",
   "execution_count": 2,
   "id": "10b585db-0321-48af-aa7b-8b19c72333fd",
   "metadata": {},
   "outputs": [],
   "source": [
    "import pandas as pd"
   ]
  },
  {
   "cell_type": "code",
   "execution_count": 3,
   "id": "7381f514-cfe1-4a03-b4e7-b3a6c8d95db0",
   "metadata": {},
   "outputs": [],
   "source": [
    "#print(dir(pd))"
   ]
  },
  {
   "cell_type": "markdown",
   "id": "c3a900ae-7b63-48a7-921c-f641f0622c8c",
   "metadata": {},
   "source": [
    "# Series: 1-D array (list of elements)"
   ]
  },
  {
   "cell_type": "code",
   "execution_count": 4,
   "id": "050583da-ba82-4ed9-9193-a8667343095c",
   "metadata": {},
   "outputs": [],
   "source": [
    "#pd.Series? #Series is same as 1-D array just series of elements:"
   ]
  },
  {
   "cell_type": "code",
   "execution_count": 17,
   "id": "21b358ca-e433-4106-ae3c-990f25563b25",
   "metadata": {},
   "outputs": [
    {
     "name": "stdout",
     "output_type": "stream",
     "text": [
      "0    1\n",
      "1    2\n",
      "2    3\n",
      "3    4\n",
      "4    5\n",
      "Name: python, dtype: int64\n"
     ]
    }
   ],
   "source": [
    "x=[1,2,3,4,5]\n",
    "a=pd.Series(x,name=\"python\") # will provide unique indexing for each row: will name the data set as \"python\":\n",
    "print(a) "
   ]
  },
  {
   "cell_type": "code",
   "execution_count": 5,
   "id": "61db2574-0ec2-4b73-9a50-81c4cf39a30d",
   "metadata": {},
   "outputs": [
    {
     "data": {
      "text/plain": [
       "0    13\n",
       "dtype: int64"
      ]
     },
     "execution_count": 5,
     "metadata": {},
     "output_type": "execute_result"
    }
   ],
   "source": [
    "s3=pd.Series(13) # this can also returns a single element with it's index:\n",
    "s3"
   ]
  },
  {
   "cell_type": "code",
   "execution_count": 28,
   "id": "4f5485b9-fc76-4d37-898c-0e65c4d452d7",
   "metadata": {},
   "outputs": [
    {
     "name": "stdout",
     "output_type": "stream",
     "text": [
      "1    12\n",
      "2    12\n",
      "3    12\n",
      "dtype: int64\n",
      "1    12\n",
      "2    12\n",
      "3    12\n",
      "4    12\n",
      "5    12\n",
      "6    12\n",
      "dtype: int64\n",
      "1    24.0\n",
      "2    24.0\n",
      "3    24.0\n",
      "4     NaN\n",
      "5     NaN\n",
      "6     NaN\n",
      "dtype: float64\n"
     ]
    }
   ],
   "source": [
    "s1=pd.Series(12,index=[1,2,3])\n",
    "s2=pd.Series(12,index=[1,2,3,4,5,6])\n",
    "print(s1)\n",
    "print(s2)\n",
    "print(s1+s2) # will only return the addition of elements, having elements on same index for rest will return NaN(Not a Number):"
   ]
  },
  {
   "cell_type": "code",
   "execution_count": 30,
   "id": "3de8aab9-106b-4774-a7fb-13b0e6cb77f2",
   "metadata": {},
   "outputs": [
    {
     "name": "stdout",
     "output_type": "stream",
     "text": [
      "0    1\n",
      "1    2\n",
      "2    3\n",
      "3    4\n",
      "4    5\n",
      "5    6\n",
      "6    7\n",
      "7    8\n",
      "Name: python, dtype: int64\n"
     ]
    }
   ],
   "source": [
    "x=[1,2,3,4,5]\n",
    "b=[6,7,8]\n",
    "a=pd.Series(x+b,name=\"python\") # here the elements of x and b will concate in a single list:\n",
    "print(a)  #dtype will be int as all list consist of numbers:"
   ]
  },
  {
   "cell_type": "code",
   "execution_count": 34,
   "id": "b064d6fe-2aff-48d3-a250-bca4027e0b87",
   "metadata": {},
   "outputs": [
    {
     "name": "stdout",
     "output_type": "stream",
     "text": [
      "name           [Tarun, Chirag, Vihar]\n",
      "Roll_no                     [1, 2, 3]\n",
      "City       [Ahmedabad, Pali, Mehsana]\n",
      "dtype: object\n",
      "<class 'pandas.core.series.Series'>\n"
     ]
    },
    {
     "data": {
      "text/plain": [
       "Roll_no                     [1, 2, 3]\n",
       "City       [Ahmedabad, Pali, Mehsana]\n",
       "dtype: object"
      ]
     },
     "execution_count": 34,
     "metadata": {},
     "output_type": "execute_result"
    }
   ],
   "source": [
    "dict = {\"name\":[\"Tarun\",\"Chirag\",\"Vihar\"], \"Roll_no\":[1,2,3],\"City\":[\"Ahmedabad\",\"Pali\",\"Mehsana\"]}\n",
    "ab=pd.Series(dict)\n",
    "print(ab) # dtype will be object as the elements in the dictonary are mix datatypes:\n",
    "print(type(ab))\n",
    "ab[1:3] # slicing with series:"
   ]
  },
  {
   "cell_type": "markdown",
   "id": "3ed674f1-aa7f-430f-ba13-b02668e89007",
   "metadata": {},
   "source": [
    "# DataFrame : 2-D arrays:"
   ]
  },
  {
   "cell_type": "code",
   "execution_count": 74,
   "id": "db060863-f9ac-48f3-b522-cdeb662a13fa",
   "metadata": {},
   "outputs": [],
   "source": [
    "dict = {\"name\":[\"Tarun\",\"Chirag\",\"Vihar\"], \"Roll_no\":[1,2,3],\"City\":[\"Ahmedabad\",\"Pali\",\"Mehsana\"]}\n",
    "s1=pd.DataFrame(dict)"
   ]
  },
  {
   "cell_type": "code",
   "execution_count": 75,
   "id": "904b48b6-d95f-4c31-abfd-367e8ee091dd",
   "metadata": {},
   "outputs": [
    {
     "data": {
      "text/html": [
       "<div>\n",
       "<style scoped>\n",
       "    .dataframe tbody tr th:only-of-type {\n",
       "        vertical-align: middle;\n",
       "    }\n",
       "\n",
       "    .dataframe tbody tr th {\n",
       "        vertical-align: top;\n",
       "    }\n",
       "\n",
       "    .dataframe thead th {\n",
       "        text-align: right;\n",
       "    }\n",
       "</style>\n",
       "<table border=\"1\" class=\"dataframe\">\n",
       "  <thead>\n",
       "    <tr style=\"text-align: right;\">\n",
       "      <th></th>\n",
       "      <th>name</th>\n",
       "      <th>Roll_no</th>\n",
       "      <th>City</th>\n",
       "    </tr>\n",
       "  </thead>\n",
       "  <tbody>\n",
       "    <tr>\n",
       "      <th>0</th>\n",
       "      <td>Tarun</td>\n",
       "      <td>1</td>\n",
       "      <td>Ahmedabad</td>\n",
       "    </tr>\n",
       "    <tr>\n",
       "      <th>1</th>\n",
       "      <td>Chirag</td>\n",
       "      <td>2</td>\n",
       "      <td>Pali</td>\n",
       "    </tr>\n",
       "    <tr>\n",
       "      <th>2</th>\n",
       "      <td>Vihar</td>\n",
       "      <td>3</td>\n",
       "      <td>Mehsana</td>\n",
       "    </tr>\n",
       "  </tbody>\n",
       "</table>\n",
       "</div>"
      ],
      "text/plain": [
       "     name  Roll_no       City\n",
       "0   Tarun        1  Ahmedabad\n",
       "1  Chirag        2       Pali\n",
       "2   Vihar        3    Mehsana"
      ]
     },
     "execution_count": 75,
     "metadata": {},
     "output_type": "execute_result"
    }
   ],
   "source": [
    "s1"
   ]
  },
  {
   "cell_type": "code",
   "execution_count": 76,
   "id": "b45f9518-c6c7-46ad-9481-0073a30e66f2",
   "metadata": {},
   "outputs": [
    {
     "data": {
      "text/plain": [
       "name       Chirag\n",
       "Roll_no         2\n",
       "City         Pali\n",
       "Name: 1, dtype: object"
      ]
     },
     "execution_count": 76,
     "metadata": {},
     "output_type": "execute_result"
    }
   ],
   "source": [
    "s1.iloc[1] # for using indexing in DataFrame: iloc=integerlocation(\"When indexing is in integers):otherwise use: loc=location"
   ]
  },
  {
   "cell_type": "code",
   "execution_count": 77,
   "id": "d6883b96-afd6-4af1-898c-7579b3c985e8",
   "metadata": {},
   "outputs": [
    {
     "data": {
      "text/html": [
       "<div>\n",
       "<style scoped>\n",
       "    .dataframe tbody tr th:only-of-type {\n",
       "        vertical-align: middle;\n",
       "    }\n",
       "\n",
       "    .dataframe tbody tr th {\n",
       "        vertical-align: top;\n",
       "    }\n",
       "\n",
       "    .dataframe thead th {\n",
       "        text-align: right;\n",
       "    }\n",
       "</style>\n",
       "<table border=\"1\" class=\"dataframe\">\n",
       "  <thead>\n",
       "    <tr style=\"text-align: right;\">\n",
       "      <th></th>\n",
       "      <th>name</th>\n",
       "      <th>Roll_no</th>\n",
       "      <th>City</th>\n",
       "    </tr>\n",
       "  </thead>\n",
       "  <tbody>\n",
       "    <tr>\n",
       "      <th>1</th>\n",
       "      <td>Chirag</td>\n",
       "      <td>2</td>\n",
       "      <td>Pali</td>\n",
       "    </tr>\n",
       "    <tr>\n",
       "      <th>2</th>\n",
       "      <td>Vihar</td>\n",
       "      <td>3</td>\n",
       "      <td>Mehsana</td>\n",
       "    </tr>\n",
       "  </tbody>\n",
       "</table>\n",
       "</div>"
      ],
      "text/plain": [
       "     name  Roll_no     City\n",
       "1  Chirag        2     Pali\n",
       "2   Vihar        3  Mehsana"
      ]
     },
     "execution_count": 77,
     "metadata": {},
     "output_type": "execute_result"
    }
   ],
   "source": [
    "s1.iloc[1:3]"
   ]
  },
  {
   "cell_type": "code",
   "execution_count": 78,
   "id": "050dab84-c766-4aa1-9af0-42ca3ba49201",
   "metadata": {},
   "outputs": [],
   "source": [
    "s1.index=[\"a\",\"b\",\"c\"] # what if the indexes are not number but alphaets:"
   ]
  },
  {
   "cell_type": "code",
   "execution_count": 79,
   "id": "0bd76a4b-5bad-4302-b72a-fcda87709678",
   "metadata": {},
   "outputs": [
    {
     "data": {
      "text/html": [
       "<div>\n",
       "<style scoped>\n",
       "    .dataframe tbody tr th:only-of-type {\n",
       "        vertical-align: middle;\n",
       "    }\n",
       "\n",
       "    .dataframe tbody tr th {\n",
       "        vertical-align: top;\n",
       "    }\n",
       "\n",
       "    .dataframe thead th {\n",
       "        text-align: right;\n",
       "    }\n",
       "</style>\n",
       "<table border=\"1\" class=\"dataframe\">\n",
       "  <thead>\n",
       "    <tr style=\"text-align: right;\">\n",
       "      <th></th>\n",
       "      <th>name</th>\n",
       "      <th>Roll_no</th>\n",
       "      <th>City</th>\n",
       "    </tr>\n",
       "  </thead>\n",
       "  <tbody>\n",
       "    <tr>\n",
       "      <th>a</th>\n",
       "      <td>Tarun</td>\n",
       "      <td>1</td>\n",
       "      <td>Ahmedabad</td>\n",
       "    </tr>\n",
       "    <tr>\n",
       "      <th>b</th>\n",
       "      <td>Chirag</td>\n",
       "      <td>2</td>\n",
       "      <td>Pali</td>\n",
       "    </tr>\n",
       "    <tr>\n",
       "      <th>c</th>\n",
       "      <td>Vihar</td>\n",
       "      <td>3</td>\n",
       "      <td>Mehsana</td>\n",
       "    </tr>\n",
       "  </tbody>\n",
       "</table>\n",
       "</div>"
      ],
      "text/plain": [
       "     name  Roll_no       City\n",
       "a   Tarun        1  Ahmedabad\n",
       "b  Chirag        2       Pali\n",
       "c   Vihar        3    Mehsana"
      ]
     },
     "execution_count": 79,
     "metadata": {},
     "output_type": "execute_result"
    }
   ],
   "source": [
    "s1"
   ]
  },
  {
   "cell_type": "code",
   "execution_count": 80,
   "id": "898316cc-d168-4493-ac3b-a923ca43e3e9",
   "metadata": {},
   "outputs": [
    {
     "data": {
      "text/plain": [
       "name           Tarun\n",
       "Roll_no            1\n",
       "City       Ahmedabad\n",
       "Name: a, dtype: object"
      ]
     },
     "execution_count": 80,
     "metadata": {},
     "output_type": "execute_result"
    }
   ],
   "source": [
    "s1.loc[\"a\"] #loc[\"str_element\"]=location for getting an element through indexing:"
   ]
  },
  {
   "cell_type": "code",
   "execution_count": 81,
   "id": "d235a5f1-4c6a-47c3-91a1-f3c84f21cb07",
   "metadata": {},
   "outputs": [
    {
     "data": {
      "text/plain": [
       "name       Chirag\n",
       "Roll_no         2\n",
       "City         Pali\n",
       "Name: b, dtype: object"
      ]
     },
     "execution_count": 81,
     "metadata": {},
     "output_type": "execute_result"
    }
   ],
   "source": [
    "s1.loc[\"b\"]"
   ]
  },
  {
   "cell_type": "code",
   "execution_count": 82,
   "id": "ac874d41-59ee-4dc3-8078-40fea34841a7",
   "metadata": {},
   "outputs": [
    {
     "data": {
      "text/html": [
       "<div>\n",
       "<style scoped>\n",
       "    .dataframe tbody tr th:only-of-type {\n",
       "        vertical-align: middle;\n",
       "    }\n",
       "\n",
       "    .dataframe tbody tr th {\n",
       "        vertical-align: top;\n",
       "    }\n",
       "\n",
       "    .dataframe thead th {\n",
       "        text-align: right;\n",
       "    }\n",
       "</style>\n",
       "<table border=\"1\" class=\"dataframe\">\n",
       "  <thead>\n",
       "    <tr style=\"text-align: right;\">\n",
       "      <th></th>\n",
       "      <th>name</th>\n",
       "      <th>Roll_no</th>\n",
       "      <th>City</th>\n",
       "    </tr>\n",
       "  </thead>\n",
       "  <tbody>\n",
       "    <tr>\n",
       "      <th>b</th>\n",
       "      <td>Chirag</td>\n",
       "      <td>2</td>\n",
       "      <td>Pali</td>\n",
       "    </tr>\n",
       "    <tr>\n",
       "      <th>c</th>\n",
       "      <td>Vihar</td>\n",
       "      <td>3</td>\n",
       "      <td>Mehsana</td>\n",
       "    </tr>\n",
       "  </tbody>\n",
       "</table>\n",
       "</div>"
      ],
      "text/plain": [
       "     name  Roll_no     City\n",
       "b  Chirag        2     Pali\n",
       "c   Vihar        3  Mehsana"
      ]
     },
     "execution_count": 82,
     "metadata": {},
     "output_type": "execute_result"
    }
   ],
   "source": [
    "s1.loc[\"b\":\"c\"] # or s1[\"b\",\"c\"] will return the same result:"
   ]
  },
  {
   "cell_type": "code",
   "execution_count": 83,
   "id": "a74b4321-17e6-4b44-934e-7cdd6b7c290a",
   "metadata": {},
   "outputs": [
    {
     "data": {
      "text/plain": [
       "name         Vihar\n",
       "Roll_no          3\n",
       "City       Mehsana\n",
       "Name: c, dtype: object"
      ]
     },
     "execution_count": 83,
     "metadata": {},
     "output_type": "execute_result"
    }
   ],
   "source": [
    "s1.loc[\"c\"]"
   ]
  },
  {
   "cell_type": "code",
   "execution_count": 84,
   "id": "2ed868ef-70e1-4629-888d-5b48f3b26ea0",
   "metadata": {},
   "outputs": [
    {
     "data": {
      "text/plain": [
       "Index(['a', 'b', 'c'], dtype='object')"
      ]
     },
     "execution_count": 84,
     "metadata": {},
     "output_type": "execute_result"
    }
   ],
   "source": [
    "s1.index"
   ]
  },
  {
   "cell_type": "code",
   "execution_count": 85,
   "id": "87926adc-dac9-4bb6-9ac0-f5384d2914fc",
   "metadata": {},
   "outputs": [
    {
     "data": {
      "text/plain": [
       "Index(['name', 'Roll_no', 'City'], dtype='object')"
      ]
     },
     "execution_count": 85,
     "metadata": {},
     "output_type": "execute_result"
    }
   ],
   "source": [
    "s1.columns"
   ]
  },
  {
   "cell_type": "code",
   "execution_count": 90,
   "id": "43d7917f-5d30-4582-80ad-0fbe5e960502",
   "metadata": {},
   "outputs": [],
   "source": [
    "s1.columns=[\"st_name\",\"st_roll\",\"st_city\"] # to change the columns name:"
   ]
  },
  {
   "cell_type": "code",
   "execution_count": 93,
   "id": "c58f7a2e-2aa0-4dfb-b3eb-32abdcf5ef02",
   "metadata": {},
   "outputs": [
    {
     "data": {
      "text/html": [
       "<div>\n",
       "<style scoped>\n",
       "    .dataframe tbody tr th:only-of-type {\n",
       "        vertical-align: middle;\n",
       "    }\n",
       "\n",
       "    .dataframe tbody tr th {\n",
       "        vertical-align: top;\n",
       "    }\n",
       "\n",
       "    .dataframe thead th {\n",
       "        text-align: right;\n",
       "    }\n",
       "</style>\n",
       "<table border=\"1\" class=\"dataframe\">\n",
       "  <thead>\n",
       "    <tr style=\"text-align: right;\">\n",
       "      <th></th>\n",
       "      <th>st_name</th>\n",
       "      <th>st_roll</th>\n",
       "      <th>st_city</th>\n",
       "    </tr>\n",
       "  </thead>\n",
       "  <tbody>\n",
       "    <tr>\n",
       "      <th>a</th>\n",
       "      <td>Tarun</td>\n",
       "      <td>1</td>\n",
       "      <td>Ahmedabad</td>\n",
       "    </tr>\n",
       "    <tr>\n",
       "      <th>b</th>\n",
       "      <td>Chirag</td>\n",
       "      <td>2</td>\n",
       "      <td>Pali</td>\n",
       "    </tr>\n",
       "    <tr>\n",
       "      <th>c</th>\n",
       "      <td>Vihar</td>\n",
       "      <td>3</td>\n",
       "      <td>Mehsana</td>\n",
       "    </tr>\n",
       "  </tbody>\n",
       "</table>\n",
       "</div>"
      ],
      "text/plain": [
       "  st_name  st_roll    st_city\n",
       "a   Tarun        1  Ahmedabad\n",
       "b  Chirag        2       Pali\n",
       "c   Vihar        3    Mehsana"
      ]
     },
     "execution_count": 93,
     "metadata": {},
     "output_type": "execute_result"
    }
   ],
   "source": [
    "s1"
   ]
  },
  {
   "cell_type": "code",
   "execution_count": 100,
   "id": "b0ab5161-13c2-40ff-9519-50455621f982",
   "metadata": {},
   "outputs": [
    {
     "data": {
      "text/html": [
       "<div>\n",
       "<style scoped>\n",
       "    .dataframe tbody tr th:only-of-type {\n",
       "        vertical-align: middle;\n",
       "    }\n",
       "\n",
       "    .dataframe tbody tr th {\n",
       "        vertical-align: top;\n",
       "    }\n",
       "\n",
       "    .dataframe thead th {\n",
       "        text-align: right;\n",
       "    }\n",
       "</style>\n",
       "<table border=\"1\" class=\"dataframe\">\n",
       "  <thead>\n",
       "    <tr style=\"text-align: right;\">\n",
       "      <th></th>\n",
       "      <th>P</th>\n",
       "      <th>U</th>\n",
       "    </tr>\n",
       "  </thead>\n",
       "  <tbody>\n",
       "    <tr>\n",
       "      <th>0</th>\n",
       "      <td>Power Bank</td>\n",
       "      <td>25</td>\n",
       "    </tr>\n",
       "    <tr>\n",
       "      <th>1</th>\n",
       "      <td>Mobiles</td>\n",
       "      <td>65</td>\n",
       "    </tr>\n",
       "    <tr>\n",
       "      <th>2</th>\n",
       "      <td>Earbuds</td>\n",
       "      <td>22</td>\n",
       "    </tr>\n",
       "    <tr>\n",
       "      <th>3</th>\n",
       "      <td>Chargers</td>\n",
       "      <td>85</td>\n",
       "    </tr>\n",
       "  </tbody>\n",
       "</table>\n",
       "</div>"
      ],
      "text/plain": [
       "            P   U\n",
       "0  Power Bank  25\n",
       "1     Mobiles  65\n",
       "2     Earbuds  22\n",
       "3    Chargers  85"
      ]
     },
     "execution_count": 100,
     "metadata": {},
     "output_type": "execute_result"
    }
   ],
   "source": [
    "product=[\"Power Bank\",\"Mobiles\",\"Earbuds\",\"Chargers\"] \n",
    "unit=[25,65,22,85]\n",
    "d=pd.DataFrame({\"P\":product,\"U\":unit}) # here list got as the values in the dictionary\n",
    "d"
   ]
  },
  {
   "cell_type": "code",
   "execution_count": 101,
   "id": "7d16e00f-d0a2-4e77-a11a-949d5dac84ac",
   "metadata": {},
   "outputs": [],
   "source": [
    "d.columns=[\"Product\",\"No_Units\"]"
   ]
  },
  {
   "cell_type": "code",
   "execution_count": 102,
   "id": "19b60964-b7c6-48e0-a770-8d499f5d7951",
   "metadata": {},
   "outputs": [
    {
     "data": {
      "text/html": [
       "<div>\n",
       "<style scoped>\n",
       "    .dataframe tbody tr th:only-of-type {\n",
       "        vertical-align: middle;\n",
       "    }\n",
       "\n",
       "    .dataframe tbody tr th {\n",
       "        vertical-align: top;\n",
       "    }\n",
       "\n",
       "    .dataframe thead th {\n",
       "        text-align: right;\n",
       "    }\n",
       "</style>\n",
       "<table border=\"1\" class=\"dataframe\">\n",
       "  <thead>\n",
       "    <tr style=\"text-align: right;\">\n",
       "      <th></th>\n",
       "      <th>Product</th>\n",
       "      <th>No_Units</th>\n",
       "    </tr>\n",
       "  </thead>\n",
       "  <tbody>\n",
       "    <tr>\n",
       "      <th>0</th>\n",
       "      <td>Power Bank</td>\n",
       "      <td>25</td>\n",
       "    </tr>\n",
       "    <tr>\n",
       "      <th>1</th>\n",
       "      <td>Mobiles</td>\n",
       "      <td>65</td>\n",
       "    </tr>\n",
       "    <tr>\n",
       "      <th>2</th>\n",
       "      <td>Earbuds</td>\n",
       "      <td>22</td>\n",
       "    </tr>\n",
       "    <tr>\n",
       "      <th>3</th>\n",
       "      <td>Chargers</td>\n",
       "      <td>85</td>\n",
       "    </tr>\n",
       "  </tbody>\n",
       "</table>\n",
       "</div>"
      ],
      "text/plain": [
       "      Product  No_Units\n",
       "0  Power Bank        25\n",
       "1     Mobiles        65\n",
       "2     Earbuds        22\n",
       "3    Chargers        85"
      ]
     },
     "execution_count": 102,
     "metadata": {},
     "output_type": "execute_result"
    }
   ],
   "source": [
    "d"
   ]
  },
  {
   "cell_type": "code",
   "execution_count": 115,
   "id": "dd5e955a-9c3b-47eb-8c0d-ee211aeb8d30",
   "metadata": {},
   "outputs": [
    {
     "name": "stdout",
     "output_type": "stream",
     "text": [
      "a     Tarun\n",
      "b    Chirag\n",
      "c     Vihar\n",
      "Name: st_name, dtype: object\n"
     ]
    }
   ],
   "source": [
    "print(s1[\"st_name\"]) # when you want return the data from columns"
   ]
  },
  {
   "cell_type": "code",
   "execution_count": 121,
   "id": "17a26e6f-ec2d-45a8-bf6c-270d051d7834",
   "metadata": {},
   "outputs": [
    {
     "data": {
      "text/html": [
       "<div>\n",
       "<style scoped>\n",
       "    .dataframe tbody tr th:only-of-type {\n",
       "        vertical-align: middle;\n",
       "    }\n",
       "\n",
       "    .dataframe tbody tr th {\n",
       "        vertical-align: top;\n",
       "    }\n",
       "\n",
       "    .dataframe thead th {\n",
       "        text-align: right;\n",
       "    }\n",
       "</style>\n",
       "<table border=\"1\" class=\"dataframe\">\n",
       "  <thead>\n",
       "    <tr style=\"text-align: right;\">\n",
       "      <th></th>\n",
       "      <th>st_name</th>\n",
       "      <th>st_city</th>\n",
       "    </tr>\n",
       "  </thead>\n",
       "  <tbody>\n",
       "    <tr>\n",
       "      <th>a</th>\n",
       "      <td>Tarun</td>\n",
       "      <td>Ahmedabad</td>\n",
       "    </tr>\n",
       "    <tr>\n",
       "      <th>b</th>\n",
       "      <td>Chirag</td>\n",
       "      <td>Pali</td>\n",
       "    </tr>\n",
       "    <tr>\n",
       "      <th>c</th>\n",
       "      <td>Vihar</td>\n",
       "      <td>Mehsana</td>\n",
       "    </tr>\n",
       "  </tbody>\n",
       "</table>\n",
       "</div>"
      ],
      "text/plain": [
       "  st_name    st_city\n",
       "a   Tarun  Ahmedabad\n",
       "b  Chirag       Pali\n",
       "c   Vihar    Mehsana"
      ]
     },
     "execution_count": 121,
     "metadata": {},
     "output_type": "execute_result"
    }
   ],
   "source": [
    "s1[[\"st_name\",\"st_city\"]] # use [[\"colum1\",\"column2\"]] to get the selected columns at a time:"
   ]
  },
  {
   "cell_type": "code",
   "execution_count": 150,
   "id": "16dc6689-e4cb-4390-a587-7901bbab0134",
   "metadata": {},
   "outputs": [
    {
     "data": {
      "text/html": [
       "<div>\n",
       "<style scoped>\n",
       "    .dataframe tbody tr th:only-of-type {\n",
       "        vertical-align: middle;\n",
       "    }\n",
       "\n",
       "    .dataframe tbody tr th {\n",
       "        vertical-align: top;\n",
       "    }\n",
       "\n",
       "    .dataframe thead th {\n",
       "        text-align: right;\n",
       "    }\n",
       "</style>\n",
       "<table border=\"1\" class=\"dataframe\">\n",
       "  <thead>\n",
       "    <tr style=\"text-align: right;\">\n",
       "      <th></th>\n",
       "      <th>Col_name</th>\n",
       "    </tr>\n",
       "  </thead>\n",
       "  <tbody>\n",
       "    <tr>\n",
       "      <th>7</th>\n",
       "      <td>1</td>\n",
       "    </tr>\n",
       "    <tr>\n",
       "      <th>8</th>\n",
       "      <td>2</td>\n",
       "    </tr>\n",
       "    <tr>\n",
       "      <th>9</th>\n",
       "      <td>3</td>\n",
       "    </tr>\n",
       "    <tr>\n",
       "      <th>6</th>\n",
       "      <td>4</td>\n",
       "    </tr>\n",
       "    <tr>\n",
       "      <th>10</th>\n",
       "      <td>5</td>\n",
       "    </tr>\n",
       "  </tbody>\n",
       "</table>\n",
       "</div>"
      ],
      "text/plain": [
       "    Col_name\n",
       "7          1\n",
       "8          2\n",
       "9          3\n",
       "6          4\n",
       "10         5"
      ]
     },
     "execution_count": 150,
     "metadata": {},
     "output_type": "execute_result"
    }
   ],
   "source": [
    "l=[1,2,3,4,5]\n",
    "ind=[7,8,9,6,10]\n",
    "co=[\"Col_name\"]\n",
    "l1=pd.DataFrame(l,ind,co) # (row,index(should be equal to no of rows),columns(should be equals to no of col.))\n",
    "l1\n",
    "print"
   ]
  },
  {
   "cell_type": "code",
   "execution_count": 142,
   "id": "fb804f50-9464-47bf-9cef-7f9dc6a022b5",
   "metadata": {},
   "outputs": [
    {
     "data": {
      "text/html": [
       "<div>\n",
       "<style scoped>\n",
       "    .dataframe tbody tr th:only-of-type {\n",
       "        vertical-align: middle;\n",
       "    }\n",
       "\n",
       "    .dataframe tbody tr th {\n",
       "        vertical-align: top;\n",
       "    }\n",
       "\n",
       "    .dataframe thead th {\n",
       "        text-align: right;\n",
       "    }\n",
       "</style>\n",
       "<table border=\"1\" class=\"dataframe\">\n",
       "  <thead>\n",
       "    <tr style=\"text-align: right;\">\n",
       "      <th></th>\n",
       "      <th>L</th>\n",
       "      <th>L2</th>\n",
       "    </tr>\n",
       "  </thead>\n",
       "  <tbody>\n",
       "    <tr>\n",
       "      <th>0</th>\n",
       "      <td>1</td>\n",
       "      <td>7</td>\n",
       "    </tr>\n",
       "    <tr>\n",
       "      <th>1</th>\n",
       "      <td>2</td>\n",
       "      <td>8</td>\n",
       "    </tr>\n",
       "    <tr>\n",
       "      <th>2</th>\n",
       "      <td>3</td>\n",
       "      <td>9</td>\n",
       "    </tr>\n",
       "    <tr>\n",
       "      <th>3</th>\n",
       "      <td>4</td>\n",
       "      <td>6</td>\n",
       "    </tr>\n",
       "    <tr>\n",
       "      <th>4</th>\n",
       "      <td>5</td>\n",
       "      <td>10</td>\n",
       "    </tr>\n",
       "  </tbody>\n",
       "</table>\n",
       "</div>"
      ],
      "text/plain": [
       "   L  L2\n",
       "0  1   7\n",
       "1  2   8\n",
       "2  3   9\n",
       "3  4   6\n",
       "4  5  10"
      ]
     },
     "execution_count": 142,
     "metadata": {},
     "output_type": "execute_result"
    }
   ],
   "source": [
    "l=[1,2,3,4,5]\n",
    "l2=[7,8,9,6,10]\n",
    "d={\"L\":l,\"L2\":l2}\n",
    "l1=pd.DataFrame(d)\n",
    "l1"
   ]
  },
  {
   "cell_type": "code",
   "execution_count": 222,
   "id": "9126168c-143d-4e46-9916-14770d16f9c4",
   "metadata": {},
   "outputs": [
    {
     "name": "stdout",
     "output_type": "stream",
     "text": [
      "    a   b   c   d   e\n",
      "a   1   2   3   4   5\n",
      "b  11  12  13  14  15\n",
      "14\n"
     ]
    }
   ],
   "source": [
    "l1=[[1,2,3,4,5],[11,12,13,14,15]]\n",
    "col=[\"a\",\"b\",\"c\",\"d\",\"e\"]\n",
    "index=[\"a\",\"b\"]\n",
    "d1=pd.DataFrame(l1,index,col)\n",
    "print(d1)\n",
    "print(d1[\"d\"][\"b\"]) # to print the specific element from the array use [col_name or no.][row_name or no.]"
   ]
  },
  {
   "cell_type": "markdown",
   "id": "aa793459-155f-4947-98cc-e4e27c6016c5",
   "metadata": {},
   "source": [
    "# By using muliple series we can use data frames as well:"
   ]
  },
  {
   "cell_type": "code",
   "execution_count": 231,
   "id": "e42644c8-f9b9-4f04-b57f-5d5f380554d4",
   "metadata": {},
   "outputs": [
    {
     "data": {
      "text/html": [
       "<div>\n",
       "<style scoped>\n",
       "    .dataframe tbody tr th:only-of-type {\n",
       "        vertical-align: middle;\n",
       "    }\n",
       "\n",
       "    .dataframe tbody tr th {\n",
       "        vertical-align: top;\n",
       "    }\n",
       "\n",
       "    .dataframe thead th {\n",
       "        text-align: right;\n",
       "    }\n",
       "</style>\n",
       "<table border=\"1\" class=\"dataframe\">\n",
       "  <thead>\n",
       "    <tr style=\"text-align: right;\">\n",
       "      <th></th>\n",
       "      <th>l1</th>\n",
       "      <th>l2</th>\n",
       "    </tr>\n",
       "  </thead>\n",
       "  <tbody>\n",
       "    <tr>\n",
       "      <th>0</th>\n",
       "      <td>1.0</td>\n",
       "      <td>8</td>\n",
       "    </tr>\n",
       "    <tr>\n",
       "      <th>1</th>\n",
       "      <td>2.0</td>\n",
       "      <td>5</td>\n",
       "    </tr>\n",
       "    <tr>\n",
       "      <th>2</th>\n",
       "      <td>3.0</td>\n",
       "      <td>4</td>\n",
       "    </tr>\n",
       "    <tr>\n",
       "      <th>3</th>\n",
       "      <td>4.0</td>\n",
       "      <td>8</td>\n",
       "    </tr>\n",
       "    <tr>\n",
       "      <th>4</th>\n",
       "      <td>NaN</td>\n",
       "      <td>6</td>\n",
       "    </tr>\n",
       "  </tbody>\n",
       "</table>\n",
       "</div>"
      ],
      "text/plain": [
       "    l1  l2\n",
       "0  1.0   8\n",
       "1  2.0   5\n",
       "2  3.0   4\n",
       "3  4.0   8\n",
       "4  NaN   6"
      ]
     },
     "execution_count": 231,
     "metadata": {},
     "output_type": "execute_result"
    }
   ],
   "source": [
    "s1={\"l1\":pd.Series([1,2,3,4]),\"l2\": pd.Series([8,5,4,8,6])} # the column which contain NaN value will conver to float:\n",
    "df=pd.DataFrame(s1)\n",
    "df"
   ]
  },
  {
   "cell_type": "code",
   "execution_count": 232,
   "id": "9fe2e718-e30b-450a-a40b-f53fe818ba22",
   "metadata": {},
   "outputs": [
    {
     "name": "stdout",
     "output_type": "stream",
     "text": [
      "8\n"
     ]
    }
   ],
   "source": [
    "print(df[\"l2\"][3])"
   ]
  },
  {
   "cell_type": "code",
   "execution_count": 214,
   "id": "b13f3989-a9b5-41ff-a161-a72c37a8689b",
   "metadata": {},
   "outputs": [],
   "source": [
    "b=[[1,2,3,4],[5,4,6,8]] # this will distribute the elements into column:\n",
    "c=pd.DataFrame(b)"
   ]
  },
  {
   "cell_type": "code",
   "execution_count": 215,
   "id": "f58252cf-2ee5-4344-a482-6b7099253abf",
   "metadata": {},
   "outputs": [
    {
     "data": {
      "text/html": [
       "<div>\n",
       "<style scoped>\n",
       "    .dataframe tbody tr th:only-of-type {\n",
       "        vertical-align: middle;\n",
       "    }\n",
       "\n",
       "    .dataframe tbody tr th {\n",
       "        vertical-align: top;\n",
       "    }\n",
       "\n",
       "    .dataframe thead th {\n",
       "        text-align: right;\n",
       "    }\n",
       "</style>\n",
       "<table border=\"1\" class=\"dataframe\">\n",
       "  <thead>\n",
       "    <tr style=\"text-align: right;\">\n",
       "      <th></th>\n",
       "      <th>0</th>\n",
       "      <th>1</th>\n",
       "      <th>2</th>\n",
       "      <th>3</th>\n",
       "    </tr>\n",
       "  </thead>\n",
       "  <tbody>\n",
       "    <tr>\n",
       "      <th>0</th>\n",
       "      <td>1</td>\n",
       "      <td>2</td>\n",
       "      <td>3</td>\n",
       "      <td>4</td>\n",
       "    </tr>\n",
       "    <tr>\n",
       "      <th>1</th>\n",
       "      <td>5</td>\n",
       "      <td>4</td>\n",
       "      <td>6</td>\n",
       "      <td>8</td>\n",
       "    </tr>\n",
       "  </tbody>\n",
       "</table>\n",
       "</div>"
      ],
      "text/plain": [
       "   0  1  2  3\n",
       "0  1  2  3  4\n",
       "1  5  4  6  8"
      ]
     },
     "execution_count": 215,
     "metadata": {},
     "output_type": "execute_result"
    }
   ],
   "source": [
    "c"
   ]
  },
  {
   "cell_type": "code",
   "execution_count": 238,
   "id": "d36ea5ab-1405-4265-8fbf-1ca367bd3775",
   "metadata": {},
   "outputs": [
    {
     "name": "stdout",
     "output_type": "stream",
     "text": [
      "8\n"
     ]
    },
    {
     "data": {
      "text/html": [
       "<div>\n",
       "<style scoped>\n",
       "    .dataframe tbody tr th:only-of-type {\n",
       "        vertical-align: middle;\n",
       "    }\n",
       "\n",
       "    .dataframe tbody tr th {\n",
       "        vertical-align: top;\n",
       "    }\n",
       "\n",
       "    .dataframe thead th {\n",
       "        text-align: right;\n",
       "    }\n",
       "</style>\n",
       "<table border=\"1\" class=\"dataframe\">\n",
       "  <thead>\n",
       "    <tr style=\"text-align: right;\">\n",
       "      <th></th>\n",
       "      <th>1</th>\n",
       "      <th>2</th>\n",
       "    </tr>\n",
       "  </thead>\n",
       "  <tbody>\n",
       "    <tr>\n",
       "      <th>0</th>\n",
       "      <td>2</td>\n",
       "      <td>3</td>\n",
       "    </tr>\n",
       "    <tr>\n",
       "      <th>1</th>\n",
       "      <td>4</td>\n",
       "      <td>6</td>\n",
       "    </tr>\n",
       "  </tbody>\n",
       "</table>\n",
       "</div>"
      ],
      "text/plain": [
       "   1  2\n",
       "0  2  3\n",
       "1  4  6"
      ]
     },
     "execution_count": 238,
     "metadata": {},
     "output_type": "execute_result"
    }
   ],
   "source": [
    "print(c[3][1])\n",
    "c[[1,2]] # only print the values of 1,2 columns"
   ]
  },
  {
   "cell_type": "code",
   "execution_count": 237,
   "id": "fd2a1038-30ac-4e49-9b54-559756a6d560",
   "metadata": {},
   "outputs": [
    {
     "data": {
      "text/html": [
       "<div>\n",
       "<style scoped>\n",
       "    .dataframe tbody tr th:only-of-type {\n",
       "        vertical-align: middle;\n",
       "    }\n",
       "\n",
       "    .dataframe tbody tr th {\n",
       "        vertical-align: top;\n",
       "    }\n",
       "\n",
       "    .dataframe thead th {\n",
       "        text-align: right;\n",
       "    }\n",
       "</style>\n",
       "<table border=\"1\" class=\"dataframe\">\n",
       "  <thead>\n",
       "    <tr style=\"text-align: right;\">\n",
       "      <th></th>\n",
       "      <th>l1</th>\n",
       "      <th>l2</th>\n",
       "    </tr>\n",
       "  </thead>\n",
       "  <tbody>\n",
       "    <tr>\n",
       "      <th>0</th>\n",
       "      <td>1.0</td>\n",
       "      <td>8</td>\n",
       "    </tr>\n",
       "    <tr>\n",
       "      <th>1</th>\n",
       "      <td>2.0</td>\n",
       "      <td>5</td>\n",
       "    </tr>\n",
       "    <tr>\n",
       "      <th>2</th>\n",
       "      <td>3.0</td>\n",
       "      <td>4</td>\n",
       "    </tr>\n",
       "    <tr>\n",
       "      <th>3</th>\n",
       "      <td>4.0</td>\n",
       "      <td>8</td>\n",
       "    </tr>\n",
       "  </tbody>\n",
       "</table>\n",
       "</div>"
      ],
      "text/plain": [
       "    l1  l2\n",
       "0  1.0   8\n",
       "1  2.0   5\n",
       "2  3.0   4\n",
       "3  4.0   8"
      ]
     },
     "execution_count": 237,
     "metadata": {},
     "output_type": "execute_result"
    }
   ],
   "source": [
    "df[:4] "
   ]
  },
  {
   "cell_type": "code",
   "execution_count": null,
   "id": "f3e4d6fd-7b6b-4170-83b6-9a6924960164",
   "metadata": {},
   "outputs": [],
   "source": []
  }
 ],
 "metadata": {
  "kernelspec": {
   "display_name": "Python 3 (ipykernel)",
   "language": "python",
   "name": "python3"
  },
  "language_info": {
   "codemirror_mode": {
    "name": "ipython",
    "version": 3
   },
   "file_extension": ".py",
   "mimetype": "text/x-python",
   "name": "python",
   "nbconvert_exporter": "python",
   "pygments_lexer": "ipython3",
   "version": "3.12.3"
  }
 },
 "nbformat": 4,
 "nbformat_minor": 5
}
