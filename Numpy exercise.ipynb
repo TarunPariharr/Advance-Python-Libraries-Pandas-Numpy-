{
 "cells": [
  {
   "cell_type": "code",
   "execution_count": 240,
   "id": "4e3d6074-efc6-4f60-acc6-e85bb5e887da",
   "metadata": {},
   "outputs": [],
   "source": [
    "import numpy as np"
   ]
  },
  {
   "cell_type": "markdown",
   "id": "e36a430a-d87b-4c15-9f8f-cbe78d3f78f1",
   "metadata": {},
   "source": [
    "# 1. print 10 zeroes in array \n",
    "array([0., 0., 0., 0., 0., 0., 0., 0., 0., 0.])"
   ]
  },
  {
   "cell_type": "code",
   "execution_count": 241,
   "id": "75aac5a7-59f5-42b1-be48-67527232a93f",
   "metadata": {},
   "outputs": [
    {
     "data": {
      "text/plain": [
       "array([0., 0., 0., 0., 0., 0., 0., 0., 0., 0.])"
      ]
     },
     "execution_count": 241,
     "metadata": {},
     "output_type": "execute_result"
    }
   ],
   "source": [
    "np.zeros(10)"
   ]
  },
  {
   "cell_type": "markdown",
   "id": "a7b8187f-e304-4b30-af18-97d7736a0b81",
   "metadata": {},
   "source": [
    "# 2. print 10 Ones in array \n",
    "array([1., 1., 1., 1., 1., 1., 1., 1., 1., 1.])"
   ]
  },
  {
   "cell_type": "code",
   "execution_count": 242,
   "id": "4411a7ad-d5eb-40d3-812d-2263eb8f3074",
   "metadata": {},
   "outputs": [
    {
     "data": {
      "text/plain": [
       "array([1., 1., 1., 1., 1., 1., 1., 1., 1., 1.])"
      ]
     },
     "execution_count": 242,
     "metadata": {},
     "output_type": "execute_result"
    }
   ],
   "source": [
    "np.ones(10)"
   ]
  },
  {
   "cell_type": "markdown",
   "id": "b4085542-7736-46c5-af23-6c391d60595b",
   "metadata": {},
   "source": [
    "# 3. print 10 5 in array \n",
    "array([5, 5, 5, 5, 5, 5, 5, 5, 5, 5])"
   ]
  },
  {
   "cell_type": "code",
   "execution_count": 245,
   "id": "5eae11f3-c1f2-4eb8-844c-0731bfff9e11",
   "metadata": {},
   "outputs": [
    {
     "data": {
      "text/plain": [
       "array([5, 5, 5, 5, 5, 5, 5, 5, 5, 5], dtype=int32)"
      ]
     },
     "execution_count": 245,
     "metadata": {},
     "output_type": "execute_result"
    }
   ],
   "source": [
    "np.random.randint(5,6,10)"
   ]
  },
  {
   "cell_type": "markdown",
   "id": "57f20d34-3984-4920-9260-866f42dc9670",
   "metadata": {},
   "source": [
    "# 4. print the below ouput\n",
    "array([10, 11, 12, 13, 14, 15, 16, 17, 18, 19, 20, 21, 22, 23, 24, 25, 26,\n",
    "       27, 28, 29, 30, 31, 32, 33, 34, 35, 36, 37, 38, 39, 40, 41, 42, 43,\n",
    "       44, 45, 46, 47, 48, 49, 50])"
   ]
  },
  {
   "cell_type": "code",
   "execution_count": 21,
   "id": "625e7e37-5f36-44da-b7bb-96b6f97310ec",
   "metadata": {},
   "outputs": [
    {
     "data": {
      "text/plain": [
       "array([10, 11, 12, 13, 14, 15, 16, 17, 18, 19, 20, 21, 22, 23, 24, 25, 26,\n",
       "       27, 28, 29, 30, 31, 32, 33, 34, 35, 36, 37, 38, 39, 40, 41, 42, 43,\n",
       "       44, 45, 46, 47, 48, 49, 50])"
      ]
     },
     "execution_count": 21,
     "metadata": {},
     "output_type": "execute_result"
    }
   ],
   "source": [
    "np.arange(10,51)"
   ]
  },
  {
   "cell_type": "markdown",
   "id": "f4c19604-500e-4583-a078-e9a885182b30",
   "metadata": {},
   "source": [
    "# 5. create an array of even numbers in range of 10 to 50:\n",
    "array([10, 12, 14, 16, 18, 20, 22, 24, 26, 28, 30, 32, 34, 36, 38, 40, 42,\n",
    "       44, 46, 48, 50])"
   ]
  },
  {
   "cell_type": "code",
   "execution_count": 23,
   "id": "94668c36-77fc-4276-b97c-66c3e67f5bbb",
   "metadata": {},
   "outputs": [
    {
     "data": {
      "text/plain": [
       "array([10, 12, 14, 16, 18, 20, 22, 24, 26, 28, 30, 32, 34, 36, 38, 40, 42,\n",
       "       44, 46, 48, 50])"
      ]
     },
     "execution_count": 23,
     "metadata": {},
     "output_type": "execute_result"
    }
   ],
   "source": [
    "np.arange(10,51,2)"
   ]
  },
  {
   "cell_type": "markdown",
   "id": "39e29b2b-4376-44a8-bf6c-d4527b9b1202",
   "metadata": {},
   "source": [
    "# 6. Create 3*3 martix ranging from 0 to 8:"
   ]
  },
  {
   "cell_type": "code",
   "execution_count": 25,
   "id": "f6c9842a-84b8-492b-9168-452e0936ae80",
   "metadata": {},
   "outputs": [
    {
     "data": {
      "text/plain": [
       "array([[0, 1, 2],\n",
       "       [3, 4, 5],\n",
       "       [6, 7, 8]])"
      ]
     },
     "execution_count": 25,
     "metadata": {},
     "output_type": "execute_result"
    }
   ],
   "source": [
    "np.arange(0,9).reshape(3,3)"
   ]
  },
  {
   "cell_type": "markdown",
   "id": "e3f51b9f-b680-404c-89b3-71e75b2a5c58",
   "metadata": {},
   "source": [
    "# 7. Create 3*3 identity matrix:"
   ]
  },
  {
   "cell_type": "code",
   "execution_count": 26,
   "id": "25b48402-a630-43dc-8881-675d031ccc0d",
   "metadata": {},
   "outputs": [
    {
     "data": {
      "text/plain": [
       "array([[1., 0., 0.],\n",
       "       [0., 1., 0.],\n",
       "       [0., 0., 1.]])"
      ]
     },
     "execution_count": 26,
     "metadata": {},
     "output_type": "execute_result"
    }
   ],
   "source": [
    "np.eye(3)"
   ]
  },
  {
   "cell_type": "markdown",
   "id": "2320805e-af2d-4e37-86aa-62d654eadf36",
   "metadata": {},
   "source": [
    "# 8. use numpy to generate a random number between 0 to 1:"
   ]
  },
  {
   "cell_type": "code",
   "execution_count": 39,
   "id": "0d9ac0db-f4f6-40f8-a98a-a73418763501",
   "metadata": {},
   "outputs": [
    {
     "data": {
      "text/plain": [
       "array([0.79456879])"
      ]
     },
     "execution_count": 39,
     "metadata": {},
     "output_type": "execute_result"
    }
   ],
   "source": [
    "np.random.random(1)"
   ]
  },
  {
   "cell_type": "markdown",
   "id": "d93eed64-f925-45ba-a080-40480018d1a7",
   "metadata": {},
   "source": [
    "# 9. use numpy to generate an array of 25 random number sampled from standard normal dirstribution:"
   ]
  },
  {
   "cell_type": "code",
   "execution_count": 41,
   "id": "64645680-4e65-4bd7-b8d0-51cc203ab8cb",
   "metadata": {},
   "outputs": [
    {
     "data": {
      "text/plain": [
       "array([-0.06878646,  1.27976109, -1.07489233, -0.55869078, -0.23521009,\n",
       "       -1.00536887, -0.34695646, -1.25642217,  1.67066078,  0.70069293,\n",
       "        0.54137153, -1.20909034,  0.06039343, -0.92367581,  0.73426736,\n",
       "       -0.31712572, -0.59841888, -1.64050436,  1.00640512,  1.281076  ,\n",
       "       -0.41413909,  0.00659444, -0.23181391,  0.30740459,  0.63583655])"
      ]
     },
     "execution_count": 41,
     "metadata": {},
     "output_type": "execute_result"
    }
   ],
   "source": [
    "np.random.normal(0,1,25)"
   ]
  },
  {
   "cell_type": "markdown",
   "id": "13daea78-9435-4dc9-b391-5a8ddc618b7b",
   "metadata": {},
   "source": [
    "# 10: Create a matrix or an array of 100 between 0 to 1"
   ]
  },
  {
   "cell_type": "code",
   "execution_count": 246,
   "id": "3d4df6eb-27e2-48cd-a052-fcfc8b43d3a8",
   "metadata": {},
   "outputs": [
    {
     "data": {
      "text/plain": [
       "array([[0.01, 0.02, 0.03, 0.04, 0.05, 0.06, 0.07, 0.08, 0.09, 0.1 ],\n",
       "       [0.11, 0.12, 0.13, 0.14, 0.15, 0.16, 0.17, 0.18, 0.19, 0.2 ],\n",
       "       [0.21, 0.22, 0.23, 0.24, 0.25, 0.26, 0.27, 0.28, 0.29, 0.3 ],\n",
       "       [0.31, 0.32, 0.33, 0.34, 0.35, 0.36, 0.37, 0.38, 0.39, 0.4 ],\n",
       "       [0.41, 0.42, 0.43, 0.44, 0.45, 0.46, 0.47, 0.48, 0.49, 0.5 ],\n",
       "       [0.51, 0.52, 0.53, 0.54, 0.55, 0.56, 0.57, 0.58, 0.59, 0.6 ],\n",
       "       [0.61, 0.62, 0.63, 0.64, 0.65, 0.66, 0.67, 0.68, 0.69, 0.7 ],\n",
       "       [0.71, 0.72, 0.73, 0.74, 0.75, 0.76, 0.77, 0.78, 0.79, 0.8 ],\n",
       "       [0.81, 0.82, 0.83, 0.84, 0.85, 0.86, 0.87, 0.88, 0.89, 0.9 ],\n",
       "       [0.91, 0.92, 0.93, 0.94, 0.95, 0.96, 0.97, 0.98, 0.99, 1.  ]])"
      ]
     },
     "execution_count": 246,
     "metadata": {},
     "output_type": "execute_result"
    }
   ],
   "source": [
    "np.linspace(0.01,1,100).reshape(10,10)"
   ]
  },
  {
   "cell_type": "markdown",
   "id": "9cb1668e-8bf7-4396-abe0-bde9d3a87893",
   "metadata": {},
   "source": [
    "# 11.Create a matrix to print linearly spaced points between 0 to 1)"
   ]
  },
  {
   "cell_type": "code",
   "execution_count": 247,
   "id": "18e088f8-556b-4993-ac24-8b80c2c6b41c",
   "metadata": {},
   "outputs": [
    {
     "data": {
      "text/plain": [
       "array([0.        , 0.05263158, 0.10526316, 0.15789474, 0.21052632,\n",
       "       0.26315789, 0.31578947, 0.36842105, 0.42105263, 0.47368421,\n",
       "       0.52631579, 0.57894737, 0.63157895, 0.68421053, 0.73684211,\n",
       "       0.78947368, 0.84210526, 0.89473684, 0.94736842, 1.        ])"
      ]
     },
     "execution_count": 247,
     "metadata": {},
     "output_type": "execute_result"
    }
   ],
   "source": [
    "np.linspace(0,1,20)"
   ]
  },
  {
   "cell_type": "code",
   "execution_count": 249,
   "id": "e8023671-5ca1-497a-8c1a-7eb89ad0f333",
   "metadata": {},
   "outputs": [
    {
     "name": "stdout",
     "output_type": "stream",
     "text": [
      "[[ 1  2  3  4  5]\n",
      " [ 6  7  8  9 10]\n",
      " [11 12 13 14 15]\n",
      " [16 17 18 19 20]\n",
      " [21 22 23 24 25]]\n"
     ]
    }
   ],
   "source": [
    "fe=np.arange(1,26).reshape(5,5)\n",
    "print(fe)"
   ]
  },
  {
   "cell_type": "markdown",
   "id": "174aeeca-4690-44d9-8160-8ab76a66e7bb",
   "metadata": {},
   "source": [
    "# Fetch the elements:"
   ]
  },
  {
   "cell_type": "code",
   "execution_count": 256,
   "id": "fd014dac-ed00-4949-8bfb-eecc7f33b706",
   "metadata": {},
   "outputs": [
    {
     "name": "stdout",
     "output_type": "stream",
     "text": [
      "[[12 13 14 15]\n",
      " [17 18 19 20]\n",
      " [22 23 24 25]]\n"
     ]
    }
   ],
   "source": [
    "nfe=fe[2:5,1:5] # [select the rows star(2):to end(5),select the columns start(1):end(5)]\n",
    "print(nfe)"
   ]
  },
  {
   "cell_type": "code",
   "execution_count": 254,
   "id": "1eda9011-25fb-4ea7-afd9-ff6af64770a1",
   "metadata": {},
   "outputs": [
    {
     "name": "stdout",
     "output_type": "stream",
     "text": [
      "9\n"
     ]
    }
   ],
   "source": [
    "print(c[1,3])"
   ]
  },
  {
   "cell_type": "code",
   "execution_count": 91,
   "id": "40142d2f-9efd-4465-b001-4c2a8cf0f164",
   "metadata": {},
   "outputs": [
    {
     "data": {
      "text/plain": [
       "array([[ 1,  2,  3,  4,  5],\n",
       "       [ 6,  7,  8,  9, 10],\n",
       "       [11, 12, 13, 14, 15],\n",
       "       [16, 17, 18, 19, 20],\n",
       "       [21, 22, 23, 24, 25]])"
      ]
     },
     "execution_count": 91,
     "metadata": {},
     "output_type": "execute_result"
    }
   ],
   "source": [
    "np.arange(1,26).reshape(5,5)"
   ]
  },
  {
   "cell_type": "code",
   "execution_count": 209,
   "id": "dc6d2c83-bfb4-4926-a3cb-8b1c1421fb1a",
   "metadata": {},
   "outputs": [
    {
     "data": {
      "text/plain": [
       "array([[ 2],\n",
       "       [ 7],\n",
       "       [12]])"
      ]
     },
     "execution_count": 209,
     "metadata": {},
     "output_type": "execute_result"
    }
   ],
   "source": [
    "d=np.arange(2,13,5)\n",
    "np.vstack(d)"
   ]
  },
  {
   "cell_type": "markdown",
   "id": "fadf5114-9cbb-436c-b35b-8eb6b2f49bc5",
   "metadata": {},
   "source": [
    "#Fetch the rows from the array:"
   ]
  },
  {
   "cell_type": "code",
   "execution_count": 111,
   "id": "c979b906-c744-4b22-a8b3-4070f9d173b8",
   "metadata": {},
   "outputs": [],
   "source": [
    "c=np.arange(1,26).reshape(5,5)"
   ]
  },
  {
   "cell_type": "code",
   "execution_count": 200,
   "id": "eb2c8658-8980-4d75-b8a9-27a1888306b0",
   "metadata": {},
   "outputs": [
    {
     "data": {
      "text/plain": [
       "array([[16, 17, 18, 19, 20],\n",
       "       [21, 22, 23, 24, 25]])"
      ]
     },
     "execution_count": 200,
     "metadata": {},
     "output_type": "execute_result"
    }
   ],
   "source": [
    "c[3:5]"
   ]
  },
  {
   "cell_type": "markdown",
   "id": "fdaa42dd-489d-4f55-a367-4b477b9c05a1",
   "metadata": {},
   "source": [
    "#Use split function:"
   ]
  },
  {
   "cell_type": "code",
   "execution_count": 237,
   "id": "fae49038-935e-4189-9985-fa680290b984",
   "metadata": {},
   "outputs": [
    {
     "data": {
      "text/plain": [
       "[array([0, 1, 2, 3]), array([4, 5, 6]), array([7, 8, 9])]"
      ]
     },
     "execution_count": 237,
     "metadata": {},
     "output_type": "execute_result"
    }
   ],
   "source": [
    "x = np.arange(10) \n",
    "np.array_split(x, 3) # array_split function will split the elements of an array into split value:split it into 3 parts:"
   ]
  },
  {
   "cell_type": "markdown",
   "id": "70909896-0b2a-4c9a-83fb-416ebd595c51",
   "metadata": {},
   "source": [
    "#To find the sum of elements in the array"
   ]
  },
  {
   "cell_type": "code",
   "execution_count": 206,
   "id": "d14f56dc-f3f1-45db-82d5-0f1eeecb3c94",
   "metadata": {},
   "outputs": [
    {
     "name": "stdout",
     "output_type": "stream",
     "text": [
      "325\n"
     ]
    }
   ],
   "source": [
    "print(np.sum(c))"
   ]
  },
  {
   "cell_type": "code",
   "execution_count": 211,
   "id": "a6de24d4-1dad-4db8-8af8-5cee85119971",
   "metadata": {},
   "outputs": [],
   "source": [
    "#Find the standard deviation of the array:"
   ]
  },
  {
   "cell_type": "code",
   "execution_count": 210,
   "id": "84c0d852-ddd9-48ab-9b7b-cb3d426e6035",
   "metadata": {},
   "outputs": [
    {
     "name": "stdout",
     "output_type": "stream",
     "text": [
      "7.211102550927978\n"
     ]
    }
   ],
   "source": [
    "print(np.std(c))"
   ]
  },
  {
   "cell_type": "code",
   "execution_count": 219,
   "id": "c45de56f-eeca-4fc7-b8d1-6aa36fa394eb",
   "metadata": {},
   "outputs": [
    {
     "data": {
      "text/plain": [
       "array([[ 1,  2,  3,  4,  5],\n",
       "       [ 6,  7,  8,  9, 10],\n",
       "       [11, 12, 13, 14, 15],\n",
       "       [16, 17, 18, 19, 20],\n",
       "       [21, 22, 23, 24, 25]])"
      ]
     },
     "execution_count": 219,
     "metadata": {},
     "output_type": "execute_result"
    }
   ],
   "source": [
    "c"
   ]
  },
  {
   "cell_type": "code",
   "execution_count": 234,
   "id": "9ab05fee-19d1-43f4-86e8-bedf3e87735c",
   "metadata": {},
   "outputs": [],
   "source": [
    "# get the sum out of all the columns"
   ]
  },
  {
   "cell_type": "code",
   "execution_count": 235,
   "id": "2ee914a8-83c8-4e59-a380-96524db11b37",
   "metadata": {},
   "outputs": [
    {
     "data": {
      "text/plain": [
       "array([55, 60, 65, 70, 75])"
      ]
     },
     "execution_count": 235,
     "metadata": {},
     "output_type": "execute_result"
    }
   ],
   "source": [
    "np.sum(c,axis=0)"
   ]
  },
  {
   "cell_type": "code",
   "execution_count": 214,
   "id": "90069521-c6a7-4db7-99d5-06981f95bf06",
   "metadata": {},
   "outputs": [
    {
     "data": {
      "text/plain": [
       "numpy.ndarray"
      ]
     },
     "execution_count": 214,
     "metadata": {},
     "output_type": "execute_result"
    }
   ],
   "source": []
  },
  {
   "cell_type": "code",
   "execution_count": null,
   "id": "b22bf275-539a-4675-a806-68af00ee37dd",
   "metadata": {},
   "outputs": [],
   "source": []
  }
 ],
 "metadata": {
  "kernelspec": {
   "display_name": "Python 3 (ipykernel)",
   "language": "python",
   "name": "python3"
  },
  "language_info": {
   "codemirror_mode": {
    "name": "ipython",
    "version": 3
   },
   "file_extension": ".py",
   "mimetype": "text/x-python",
   "name": "python",
   "nbconvert_exporter": "python",
   "pygments_lexer": "ipython3",
   "version": "3.12.3"
  }
 },
 "nbformat": 4,
 "nbformat_minor": 5
}
